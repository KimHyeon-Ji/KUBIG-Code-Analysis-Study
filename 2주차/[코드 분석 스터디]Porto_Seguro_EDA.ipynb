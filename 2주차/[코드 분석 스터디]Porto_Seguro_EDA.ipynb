{
  "nbformat": 4,
  "nbformat_minor": 0,
  "metadata": {
    "colab": {
      "name": "Porto_Seguro_EDA.ipynb",
      "provenance": [],
      "collapsed_sections": []
    },
    "kernelspec": {
      "name": "python3",
      "display_name": "Python 3"
    },
    "language_info": {
      "name": "python"
    }
  },
  "cells": [
    {
      "cell_type": "markdown",
      "metadata": {
        "id": "FxPxu2EQAwFB"
      },
      "source": [
        "\n",
        "# Porto Seguro Safe Driver Prediction\n",
        "\n"
      ]
    },
    {
      "cell_type": "markdown",
      "metadata": {
        "id": "bWh7-5rFA3xb"
      },
      "source": [
        "**대회 설명**\n",
        "\n",
        "Porto Seguro는 브라질의 자동차 보험 회사\n",
        "\n",
        "**대회 목적**\n",
        "어떤 차주가 내년에 보험 청구 할 확률 예측\n",
        "\n",
        "**데이터 특징**\n",
        "\n",
        "\n",
        "1.   테스트 데이터 > 훈련 데이터\n",
        "2.   결측치의 값이 -1로 주어짐\n",
        "3.   각 Feature의 의미가 주어지지 않음.\n",
        "4.   target = 0 : 보험 청구 no / target = 1 : 보험 청구 yes\n",
        "\n",
        "**데이터 평가**\n",
        "\n",
        "지니 계수를 이용하여 데이터의 성능을 평가함.\n",
        "\n",
        "지니 계수 : 경제적 불평등을 계수화할 때 주로 사용하는 지표\n",
        "* 0~0.5의 값을 가짐\n",
        "* 0.5에 가까울수록 좋은 분석임.\n",
        "\n",
        "![image.png](data:image/png;base64,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)\n",
        "\n",
        "위 그림에서 A/(A+B)가 지니 계수\n",
        "\n",
        "Actual 값이 가지고 있는 불평등 정도 / Actual-Prediction 간의 불평등 정도\n",
        "\n",
        "**지니 계수 쓰는 이유**\n",
        "* imbalanced data 이기 때문에 이들의 평가를 위한 임계값을 어떻게 정하느냐에 따라 예측값이 바뀌므로 면적으로 스코어를 매겨 이러한 문제를 해결하기 위함"
      ]
    },
    {
      "cell_type": "markdown",
      "metadata": {
        "id": "kfJq2szpemPi"
      },
      "source": [
        "필사 커널 출처 :\n",
        "https://www.kaggle.com/bertcarremans/data-preparation-exploration"
      ]
    },
    {
      "cell_type": "code",
      "metadata": {
        "colab": {
          "base_uri": "https://localhost:8080/"
        },
        "id": "Lg8igqAp65s_",
        "outputId": "19445997-ae34-4108-aadf-1c009b581ad9"
      },
      "source": [
        "from google.colab import drive\n",
        "drive.mount('/content/drive')"
      ],
      "execution_count": null,
      "outputs": [
        {
          "output_type": "stream",
          "name": "stdout",
          "text": [
            "Drive already mounted at /content/drive; to attempt to forcibly remount, call drive.mount(\"/content/drive\", force_remount=True).\n"
          ]
        }
      ]
    },
    {
      "cell_type": "code",
      "metadata": {
        "id": "rl8ZiN-D9Lg7"
      },
      "source": [
        "import pandas as pd\n",
        "import numpy as np\n",
        "import matplotlib.pyplot as plt\n",
        "import seaborn as sns\n",
        "# from sklearn.preprocessing import Imputer (버전 업그레이드 이후 sklearn.impute에서 바로 SimpleImputer 입력 가능)\n",
        "from sklearn.impute import SimpleImputer\n",
        "from sklearn.preprocessing import PolynomialFeatures\n",
        "from sklearn.preprocessing import StandardScaler\n",
        "from sklearn.feature_selection import VarianceThreshold\n",
        "from sklearn.feature_selection import SelectFromModel\n",
        "from sklearn.utils import shuffle\n",
        "from sklearn.ensemble import RandomForestClassifier\n",
        "\n",
        "pd.set_option('display.max_columns', 100)"
      ],
      "execution_count": null,
      "outputs": []
    },
    {
      "cell_type": "code",
      "metadata": {
        "id": "00APLCMd8pnX"
      },
      "source": [
        "train = pd.read_csv('/content/drive/MyDrive/KUBIG/KaggleStudy/data/train.csv')\n",
        "test = pd.read_csv('/content/drive/MyDrive/KUBIG/KaggleStudy/data/test.csv')"
      ],
      "execution_count": null,
      "outputs": []
    },
    {
      "cell_type": "code",
      "metadata": {
        "colab": {
          "base_uri": "https://localhost:8080/",
          "height": 222
        },
        "id": "ZGt1Qw8H-ZqX",
        "outputId": "76d7f7ee-4e8b-4034-adfe-c3aca7891801"
      },
      "source": [
        "train.head()"
      ],
      "execution_count": null,
      "outputs": [
        {
          "output_type": "execute_result",
          "data": {
            "text/html": [
              "<div>\n",
              "<style scoped>\n",
              "    .dataframe tbody tr th:only-of-type {\n",
              "        vertical-align: middle;\n",
              "    }\n",
              "\n",
              "    .dataframe tbody tr th {\n",
              "        vertical-align: top;\n",
              "    }\n",
              "\n",
              "    .dataframe thead th {\n",
              "        text-align: right;\n",
              "    }\n",
              "</style>\n",
              "<table border=\"1\" class=\"dataframe\">\n",
              "  <thead>\n",
              "    <tr style=\"text-align: right;\">\n",
              "      <th></th>\n",
              "      <th>id</th>\n",
              "      <th>target</th>\n",
              "      <th>ps_ind_01</th>\n",
              "      <th>ps_ind_02_cat</th>\n",
              "      <th>ps_ind_03</th>\n",
              "      <th>ps_ind_04_cat</th>\n",
              "      <th>ps_ind_05_cat</th>\n",
              "      <th>ps_ind_06_bin</th>\n",
              "      <th>ps_ind_07_bin</th>\n",
              "      <th>ps_ind_08_bin</th>\n",
              "      <th>ps_ind_09_bin</th>\n",
              "      <th>ps_ind_10_bin</th>\n",
              "      <th>ps_ind_11_bin</th>\n",
              "      <th>ps_ind_12_bin</th>\n",
              "      <th>ps_ind_13_bin</th>\n",
              "      <th>ps_ind_14</th>\n",
              "      <th>ps_ind_15</th>\n",
              "      <th>ps_ind_16_bin</th>\n",
              "      <th>ps_ind_17_bin</th>\n",
              "      <th>ps_ind_18_bin</th>\n",
              "      <th>ps_reg_01</th>\n",
              "      <th>ps_reg_02</th>\n",
              "      <th>ps_reg_03</th>\n",
              "      <th>ps_car_01_cat</th>\n",
              "      <th>ps_car_02_cat</th>\n",
              "      <th>ps_car_03_cat</th>\n",
              "      <th>ps_car_04_cat</th>\n",
              "      <th>ps_car_05_cat</th>\n",
              "      <th>ps_car_06_cat</th>\n",
              "      <th>ps_car_07_cat</th>\n",
              "      <th>ps_car_08_cat</th>\n",
              "      <th>ps_car_09_cat</th>\n",
              "      <th>ps_car_10_cat</th>\n",
              "      <th>ps_car_11_cat</th>\n",
              "      <th>ps_car_11</th>\n",
              "      <th>ps_car_12</th>\n",
              "      <th>ps_car_13</th>\n",
              "      <th>ps_car_14</th>\n",
              "      <th>ps_car_15</th>\n",
              "      <th>ps_calc_01</th>\n",
              "      <th>ps_calc_02</th>\n",
              "      <th>ps_calc_03</th>\n",
              "      <th>ps_calc_04</th>\n",
              "      <th>ps_calc_05</th>\n",
              "      <th>ps_calc_06</th>\n",
              "      <th>ps_calc_07</th>\n",
              "      <th>ps_calc_08</th>\n",
              "      <th>ps_calc_09</th>\n",
              "      <th>ps_calc_10</th>\n",
              "      <th>ps_calc_11</th>\n",
              "      <th>ps_calc_12</th>\n",
              "      <th>ps_calc_13</th>\n",
              "      <th>ps_calc_14</th>\n",
              "      <th>ps_calc_15_bin</th>\n",
              "      <th>ps_calc_16_bin</th>\n",
              "      <th>ps_calc_17_bin</th>\n",
              "      <th>ps_calc_18_bin</th>\n",
              "      <th>ps_calc_19_bin</th>\n",
              "      <th>ps_calc_20_bin</th>\n",
              "    </tr>\n",
              "  </thead>\n",
              "  <tbody>\n",
              "    <tr>\n",
              "      <th>0</th>\n",
              "      <td>7</td>\n",
              "      <td>0</td>\n",
              "      <td>2</td>\n",
              "      <td>2</td>\n",
              "      <td>5</td>\n",
              "      <td>1</td>\n",
              "      <td>0</td>\n",
              "      <td>0</td>\n",
              "      <td>1</td>\n",
              "      <td>0</td>\n",
              "      <td>0</td>\n",
              "      <td>0</td>\n",
              "      <td>0</td>\n",
              "      <td>0</td>\n",
              "      <td>0</td>\n",
              "      <td>0</td>\n",
              "      <td>11</td>\n",
              "      <td>0</td>\n",
              "      <td>1</td>\n",
              "      <td>0</td>\n",
              "      <td>0.7</td>\n",
              "      <td>0.2</td>\n",
              "      <td>0.718070</td>\n",
              "      <td>10</td>\n",
              "      <td>1</td>\n",
              "      <td>-1</td>\n",
              "      <td>0</td>\n",
              "      <td>1</td>\n",
              "      <td>4</td>\n",
              "      <td>1</td>\n",
              "      <td>0</td>\n",
              "      <td>0</td>\n",
              "      <td>1</td>\n",
              "      <td>12</td>\n",
              "      <td>2</td>\n",
              "      <td>0.400000</td>\n",
              "      <td>0.883679</td>\n",
              "      <td>0.370810</td>\n",
              "      <td>3.605551</td>\n",
              "      <td>0.6</td>\n",
              "      <td>0.5</td>\n",
              "      <td>0.2</td>\n",
              "      <td>3</td>\n",
              "      <td>1</td>\n",
              "      <td>10</td>\n",
              "      <td>1</td>\n",
              "      <td>10</td>\n",
              "      <td>1</td>\n",
              "      <td>5</td>\n",
              "      <td>9</td>\n",
              "      <td>1</td>\n",
              "      <td>5</td>\n",
              "      <td>8</td>\n",
              "      <td>0</td>\n",
              "      <td>1</td>\n",
              "      <td>1</td>\n",
              "      <td>0</td>\n",
              "      <td>0</td>\n",
              "      <td>1</td>\n",
              "    </tr>\n",
              "    <tr>\n",
              "      <th>1</th>\n",
              "      <td>9</td>\n",
              "      <td>0</td>\n",
              "      <td>1</td>\n",
              "      <td>1</td>\n",
              "      <td>7</td>\n",
              "      <td>0</td>\n",
              "      <td>0</td>\n",
              "      <td>0</td>\n",
              "      <td>0</td>\n",
              "      <td>1</td>\n",
              "      <td>0</td>\n",
              "      <td>0</td>\n",
              "      <td>0</td>\n",
              "      <td>0</td>\n",
              "      <td>0</td>\n",
              "      <td>0</td>\n",
              "      <td>3</td>\n",
              "      <td>0</td>\n",
              "      <td>0</td>\n",
              "      <td>1</td>\n",
              "      <td>0.8</td>\n",
              "      <td>0.4</td>\n",
              "      <td>0.766078</td>\n",
              "      <td>11</td>\n",
              "      <td>1</td>\n",
              "      <td>-1</td>\n",
              "      <td>0</td>\n",
              "      <td>-1</td>\n",
              "      <td>11</td>\n",
              "      <td>1</td>\n",
              "      <td>1</td>\n",
              "      <td>2</td>\n",
              "      <td>1</td>\n",
              "      <td>19</td>\n",
              "      <td>3</td>\n",
              "      <td>0.316228</td>\n",
              "      <td>0.618817</td>\n",
              "      <td>0.388716</td>\n",
              "      <td>2.449490</td>\n",
              "      <td>0.3</td>\n",
              "      <td>0.1</td>\n",
              "      <td>0.3</td>\n",
              "      <td>2</td>\n",
              "      <td>1</td>\n",
              "      <td>9</td>\n",
              "      <td>5</td>\n",
              "      <td>8</td>\n",
              "      <td>1</td>\n",
              "      <td>7</td>\n",
              "      <td>3</td>\n",
              "      <td>1</td>\n",
              "      <td>1</td>\n",
              "      <td>9</td>\n",
              "      <td>0</td>\n",
              "      <td>1</td>\n",
              "      <td>1</td>\n",
              "      <td>0</td>\n",
              "      <td>1</td>\n",
              "      <td>0</td>\n",
              "    </tr>\n",
              "    <tr>\n",
              "      <th>2</th>\n",
              "      <td>13</td>\n",
              "      <td>0</td>\n",
              "      <td>5</td>\n",
              "      <td>4</td>\n",
              "      <td>9</td>\n",
              "      <td>1</td>\n",
              "      <td>0</td>\n",
              "      <td>0</td>\n",
              "      <td>0</td>\n",
              "      <td>1</td>\n",
              "      <td>0</td>\n",
              "      <td>0</td>\n",
              "      <td>0</td>\n",
              "      <td>0</td>\n",
              "      <td>0</td>\n",
              "      <td>0</td>\n",
              "      <td>12</td>\n",
              "      <td>1</td>\n",
              "      <td>0</td>\n",
              "      <td>0</td>\n",
              "      <td>0.0</td>\n",
              "      <td>0.0</td>\n",
              "      <td>-1.000000</td>\n",
              "      <td>7</td>\n",
              "      <td>1</td>\n",
              "      <td>-1</td>\n",
              "      <td>0</td>\n",
              "      <td>-1</td>\n",
              "      <td>14</td>\n",
              "      <td>1</td>\n",
              "      <td>1</td>\n",
              "      <td>2</td>\n",
              "      <td>1</td>\n",
              "      <td>60</td>\n",
              "      <td>1</td>\n",
              "      <td>0.316228</td>\n",
              "      <td>0.641586</td>\n",
              "      <td>0.347275</td>\n",
              "      <td>3.316625</td>\n",
              "      <td>0.5</td>\n",
              "      <td>0.7</td>\n",
              "      <td>0.1</td>\n",
              "      <td>2</td>\n",
              "      <td>2</td>\n",
              "      <td>9</td>\n",
              "      <td>1</td>\n",
              "      <td>8</td>\n",
              "      <td>2</td>\n",
              "      <td>7</td>\n",
              "      <td>4</td>\n",
              "      <td>2</td>\n",
              "      <td>7</td>\n",
              "      <td>7</td>\n",
              "      <td>0</td>\n",
              "      <td>1</td>\n",
              "      <td>1</td>\n",
              "      <td>0</td>\n",
              "      <td>1</td>\n",
              "      <td>0</td>\n",
              "    </tr>\n",
              "    <tr>\n",
              "      <th>3</th>\n",
              "      <td>16</td>\n",
              "      <td>0</td>\n",
              "      <td>0</td>\n",
              "      <td>1</td>\n",
              "      <td>2</td>\n",
              "      <td>0</td>\n",
              "      <td>0</td>\n",
              "      <td>1</td>\n",
              "      <td>0</td>\n",
              "      <td>0</td>\n",
              "      <td>0</td>\n",
              "      <td>0</td>\n",
              "      <td>0</td>\n",
              "      <td>0</td>\n",
              "      <td>0</td>\n",
              "      <td>0</td>\n",
              "      <td>8</td>\n",
              "      <td>1</td>\n",
              "      <td>0</td>\n",
              "      <td>0</td>\n",
              "      <td>0.9</td>\n",
              "      <td>0.2</td>\n",
              "      <td>0.580948</td>\n",
              "      <td>7</td>\n",
              "      <td>1</td>\n",
              "      <td>0</td>\n",
              "      <td>0</td>\n",
              "      <td>1</td>\n",
              "      <td>11</td>\n",
              "      <td>1</td>\n",
              "      <td>1</td>\n",
              "      <td>3</td>\n",
              "      <td>1</td>\n",
              "      <td>104</td>\n",
              "      <td>1</td>\n",
              "      <td>0.374166</td>\n",
              "      <td>0.542949</td>\n",
              "      <td>0.294958</td>\n",
              "      <td>2.000000</td>\n",
              "      <td>0.6</td>\n",
              "      <td>0.9</td>\n",
              "      <td>0.1</td>\n",
              "      <td>2</td>\n",
              "      <td>4</td>\n",
              "      <td>7</td>\n",
              "      <td>1</td>\n",
              "      <td>8</td>\n",
              "      <td>4</td>\n",
              "      <td>2</td>\n",
              "      <td>2</td>\n",
              "      <td>2</td>\n",
              "      <td>4</td>\n",
              "      <td>9</td>\n",
              "      <td>0</td>\n",
              "      <td>0</td>\n",
              "      <td>0</td>\n",
              "      <td>0</td>\n",
              "      <td>0</td>\n",
              "      <td>0</td>\n",
              "    </tr>\n",
              "    <tr>\n",
              "      <th>4</th>\n",
              "      <td>17</td>\n",
              "      <td>0</td>\n",
              "      <td>0</td>\n",
              "      <td>2</td>\n",
              "      <td>0</td>\n",
              "      <td>1</td>\n",
              "      <td>0</td>\n",
              "      <td>1</td>\n",
              "      <td>0</td>\n",
              "      <td>0</td>\n",
              "      <td>0</td>\n",
              "      <td>0</td>\n",
              "      <td>0</td>\n",
              "      <td>0</td>\n",
              "      <td>0</td>\n",
              "      <td>0</td>\n",
              "      <td>9</td>\n",
              "      <td>1</td>\n",
              "      <td>0</td>\n",
              "      <td>0</td>\n",
              "      <td>0.7</td>\n",
              "      <td>0.6</td>\n",
              "      <td>0.840759</td>\n",
              "      <td>11</td>\n",
              "      <td>1</td>\n",
              "      <td>-1</td>\n",
              "      <td>0</td>\n",
              "      <td>-1</td>\n",
              "      <td>14</td>\n",
              "      <td>1</td>\n",
              "      <td>1</td>\n",
              "      <td>2</td>\n",
              "      <td>1</td>\n",
              "      <td>82</td>\n",
              "      <td>3</td>\n",
              "      <td>0.316070</td>\n",
              "      <td>0.565832</td>\n",
              "      <td>0.365103</td>\n",
              "      <td>2.000000</td>\n",
              "      <td>0.4</td>\n",
              "      <td>0.6</td>\n",
              "      <td>0.0</td>\n",
              "      <td>2</td>\n",
              "      <td>2</td>\n",
              "      <td>6</td>\n",
              "      <td>3</td>\n",
              "      <td>10</td>\n",
              "      <td>2</td>\n",
              "      <td>12</td>\n",
              "      <td>3</td>\n",
              "      <td>1</td>\n",
              "      <td>1</td>\n",
              "      <td>3</td>\n",
              "      <td>0</td>\n",
              "      <td>0</td>\n",
              "      <td>0</td>\n",
              "      <td>1</td>\n",
              "      <td>1</td>\n",
              "      <td>0</td>\n",
              "    </tr>\n",
              "  </tbody>\n",
              "</table>\n",
              "</div>"
            ],
            "text/plain": [
              "   id  target  ps_ind_01  ps_ind_02_cat  ps_ind_03  ps_ind_04_cat  \\\n",
              "0   7       0          2              2          5              1   \n",
              "1   9       0          1              1          7              0   \n",
              "2  13       0          5              4          9              1   \n",
              "3  16       0          0              1          2              0   \n",
              "4  17       0          0              2          0              1   \n",
              "\n",
              "   ps_ind_05_cat  ps_ind_06_bin  ps_ind_07_bin  ps_ind_08_bin  ps_ind_09_bin  \\\n",
              "0              0              0              1              0              0   \n",
              "1              0              0              0              1              0   \n",
              "2              0              0              0              1              0   \n",
              "3              0              1              0              0              0   \n",
              "4              0              1              0              0              0   \n",
              "\n",
              "   ps_ind_10_bin  ps_ind_11_bin  ps_ind_12_bin  ps_ind_13_bin  ps_ind_14  \\\n",
              "0              0              0              0              0          0   \n",
              "1              0              0              0              0          0   \n",
              "2              0              0              0              0          0   \n",
              "3              0              0              0              0          0   \n",
              "4              0              0              0              0          0   \n",
              "\n",
              "   ps_ind_15  ps_ind_16_bin  ps_ind_17_bin  ps_ind_18_bin  ps_reg_01  \\\n",
              "0         11              0              1              0        0.7   \n",
              "1          3              0              0              1        0.8   \n",
              "2         12              1              0              0        0.0   \n",
              "3          8              1              0              0        0.9   \n",
              "4          9              1              0              0        0.7   \n",
              "\n",
              "   ps_reg_02  ps_reg_03  ps_car_01_cat  ps_car_02_cat  ps_car_03_cat  \\\n",
              "0        0.2   0.718070             10              1             -1   \n",
              "1        0.4   0.766078             11              1             -1   \n",
              "2        0.0  -1.000000              7              1             -1   \n",
              "3        0.2   0.580948              7              1              0   \n",
              "4        0.6   0.840759             11              1             -1   \n",
              "\n",
              "   ps_car_04_cat  ps_car_05_cat  ps_car_06_cat  ps_car_07_cat  ps_car_08_cat  \\\n",
              "0              0              1              4              1              0   \n",
              "1              0             -1             11              1              1   \n",
              "2              0             -1             14              1              1   \n",
              "3              0              1             11              1              1   \n",
              "4              0             -1             14              1              1   \n",
              "\n",
              "   ps_car_09_cat  ps_car_10_cat  ps_car_11_cat  ps_car_11  ps_car_12  \\\n",
              "0              0              1             12          2   0.400000   \n",
              "1              2              1             19          3   0.316228   \n",
              "2              2              1             60          1   0.316228   \n",
              "3              3              1            104          1   0.374166   \n",
              "4              2              1             82          3   0.316070   \n",
              "\n",
              "   ps_car_13  ps_car_14  ps_car_15  ps_calc_01  ps_calc_02  ps_calc_03  \\\n",
              "0   0.883679   0.370810   3.605551         0.6         0.5         0.2   \n",
              "1   0.618817   0.388716   2.449490         0.3         0.1         0.3   \n",
              "2   0.641586   0.347275   3.316625         0.5         0.7         0.1   \n",
              "3   0.542949   0.294958   2.000000         0.6         0.9         0.1   \n",
              "4   0.565832   0.365103   2.000000         0.4         0.6         0.0   \n",
              "\n",
              "   ps_calc_04  ps_calc_05  ps_calc_06  ps_calc_07  ps_calc_08  ps_calc_09  \\\n",
              "0           3           1          10           1          10           1   \n",
              "1           2           1           9           5           8           1   \n",
              "2           2           2           9           1           8           2   \n",
              "3           2           4           7           1           8           4   \n",
              "4           2           2           6           3          10           2   \n",
              "\n",
              "   ps_calc_10  ps_calc_11  ps_calc_12  ps_calc_13  ps_calc_14  ps_calc_15_bin  \\\n",
              "0           5           9           1           5           8               0   \n",
              "1           7           3           1           1           9               0   \n",
              "2           7           4           2           7           7               0   \n",
              "3           2           2           2           4           9               0   \n",
              "4          12           3           1           1           3               0   \n",
              "\n",
              "   ps_calc_16_bin  ps_calc_17_bin  ps_calc_18_bin  ps_calc_19_bin  \\\n",
              "0               1               1               0               0   \n",
              "1               1               1               0               1   \n",
              "2               1               1               0               1   \n",
              "3               0               0               0               0   \n",
              "4               0               0               1               1   \n",
              "\n",
              "   ps_calc_20_bin  \n",
              "0               1  \n",
              "1               0  \n",
              "2               0  \n",
              "3               0  \n",
              "4               0  "
            ]
          },
          "metadata": {},
          "execution_count": 97
        }
      ]
    },
    {
      "cell_type": "markdown",
      "metadata": {
        "id": "u4D636U7_85_"
      },
      "source": [
        "변수 명에 \n",
        "*   bin -> binary features \n",
        "*   cat -> categorical features\n",
        "\n",
        "이 표식이 없으면 연속형 변수 or 순서형 범주\n"
      ]
    },
    {
      "cell_type": "code",
      "metadata": {
        "colab": {
          "base_uri": "https://localhost:8080/"
        },
        "id": "JJV_bUQS_sMk",
        "outputId": "0a695949-459c-4b68-d863-48532fa7d3ac"
      },
      "source": [
        "train.shape"
      ],
      "execution_count": null,
      "outputs": [
        {
          "output_type": "execute_result",
          "data": {
            "text/plain": [
              "(595212, 59)"
            ]
          },
          "metadata": {},
          "execution_count": 98
        }
      ]
    },
    {
      "cell_type": "code",
      "metadata": {
        "colab": {
          "base_uri": "https://localhost:8080/"
        },
        "id": "mWmiLI1rB-oz",
        "outputId": "733840be-5ad8-4f12-c69f-461573e62101"
      },
      "source": [
        "train.drop_duplicates()\n",
        "train.shape"
      ],
      "execution_count": null,
      "outputs": [
        {
          "output_type": "execute_result",
          "data": {
            "text/plain": [
              "(595212, 59)"
            ]
          },
          "metadata": {},
          "execution_count": 99
        }
      ]
    },
    {
      "cell_type": "code",
      "metadata": {
        "colab": {
          "base_uri": "https://localhost:8080/"
        },
        "id": "Ss123q1bCCPM",
        "outputId": "48ac1f2b-c1df-466d-e9d5-0b541b7bb617"
      },
      "source": [
        "test.shape"
      ],
      "execution_count": null,
      "outputs": [
        {
          "output_type": "execute_result",
          "data": {
            "text/plain": [
              "(892816, 58)"
            ]
          },
          "metadata": {},
          "execution_count": 100
        }
      ]
    },
    {
      "cell_type": "code",
      "metadata": {
        "colab": {
          "base_uri": "https://localhost:8080/"
        },
        "id": "ioZct7SyCEHi",
        "outputId": "bba9c5b9-0d3d-4011-a0bb-bcc7dd0f9045"
      },
      "source": [
        "train.info()"
      ],
      "execution_count": null,
      "outputs": [
        {
          "output_type": "stream",
          "name": "stdout",
          "text": [
            "<class 'pandas.core.frame.DataFrame'>\n",
            "RangeIndex: 595212 entries, 0 to 595211\n",
            "Data columns (total 59 columns):\n",
            " #   Column          Non-Null Count   Dtype  \n",
            "---  ------          --------------   -----  \n",
            " 0   id              595212 non-null  int64  \n",
            " 1   target          595212 non-null  int64  \n",
            " 2   ps_ind_01       595212 non-null  int64  \n",
            " 3   ps_ind_02_cat   595212 non-null  int64  \n",
            " 4   ps_ind_03       595212 non-null  int64  \n",
            " 5   ps_ind_04_cat   595212 non-null  int64  \n",
            " 6   ps_ind_05_cat   595212 non-null  int64  \n",
            " 7   ps_ind_06_bin   595212 non-null  int64  \n",
            " 8   ps_ind_07_bin   595212 non-null  int64  \n",
            " 9   ps_ind_08_bin   595212 non-null  int64  \n",
            " 10  ps_ind_09_bin   595212 non-null  int64  \n",
            " 11  ps_ind_10_bin   595212 non-null  int64  \n",
            " 12  ps_ind_11_bin   595212 non-null  int64  \n",
            " 13  ps_ind_12_bin   595212 non-null  int64  \n",
            " 14  ps_ind_13_bin   595212 non-null  int64  \n",
            " 15  ps_ind_14       595212 non-null  int64  \n",
            " 16  ps_ind_15       595212 non-null  int64  \n",
            " 17  ps_ind_16_bin   595212 non-null  int64  \n",
            " 18  ps_ind_17_bin   595212 non-null  int64  \n",
            " 19  ps_ind_18_bin   595212 non-null  int64  \n",
            " 20  ps_reg_01       595212 non-null  float64\n",
            " 21  ps_reg_02       595212 non-null  float64\n",
            " 22  ps_reg_03       595212 non-null  float64\n",
            " 23  ps_car_01_cat   595212 non-null  int64  \n",
            " 24  ps_car_02_cat   595212 non-null  int64  \n",
            " 25  ps_car_03_cat   595212 non-null  int64  \n",
            " 26  ps_car_04_cat   595212 non-null  int64  \n",
            " 27  ps_car_05_cat   595212 non-null  int64  \n",
            " 28  ps_car_06_cat   595212 non-null  int64  \n",
            " 29  ps_car_07_cat   595212 non-null  int64  \n",
            " 30  ps_car_08_cat   595212 non-null  int64  \n",
            " 31  ps_car_09_cat   595212 non-null  int64  \n",
            " 32  ps_car_10_cat   595212 non-null  int64  \n",
            " 33  ps_car_11_cat   595212 non-null  int64  \n",
            " 34  ps_car_11       595212 non-null  int64  \n",
            " 35  ps_car_12       595212 non-null  float64\n",
            " 36  ps_car_13       595212 non-null  float64\n",
            " 37  ps_car_14       595212 non-null  float64\n",
            " 38  ps_car_15       595212 non-null  float64\n",
            " 39  ps_calc_01      595212 non-null  float64\n",
            " 40  ps_calc_02      595212 non-null  float64\n",
            " 41  ps_calc_03      595212 non-null  float64\n",
            " 42  ps_calc_04      595212 non-null  int64  \n",
            " 43  ps_calc_05      595212 non-null  int64  \n",
            " 44  ps_calc_06      595212 non-null  int64  \n",
            " 45  ps_calc_07      595212 non-null  int64  \n",
            " 46  ps_calc_08      595212 non-null  int64  \n",
            " 47  ps_calc_09      595212 non-null  int64  \n",
            " 48  ps_calc_10      595212 non-null  int64  \n",
            " 49  ps_calc_11      595212 non-null  int64  \n",
            " 50  ps_calc_12      595212 non-null  int64  \n",
            " 51  ps_calc_13      595212 non-null  int64  \n",
            " 52  ps_calc_14      595212 non-null  int64  \n",
            " 53  ps_calc_15_bin  595212 non-null  int64  \n",
            " 54  ps_calc_16_bin  595212 non-null  int64  \n",
            " 55  ps_calc_17_bin  595212 non-null  int64  \n",
            " 56  ps_calc_18_bin  595212 non-null  int64  \n",
            " 57  ps_calc_19_bin  595212 non-null  int64  \n",
            " 58  ps_calc_20_bin  595212 non-null  int64  \n",
            "dtypes: float64(10), int64(49)\n",
            "memory usage: 267.9 MB\n"
          ]
        }
      ]
    },
    {
      "cell_type": "markdown",
      "metadata": {
        "id": "yyWXAKjBDEce"
      },
      "source": [
        "## Meta Data\n",
        "\n",
        "데이터 관리를 위해서 feature들의 특징을 담은 meta data 생성\n",
        "\n",
        "**Meta Data 작성 시 장점**\n",
        "\n",
        "어떤 조건을 가진 feature만 사용하고 싶을 때 Meta Data를 생성해 놓으면 간단한 코드로 원하는 feature를 가져올 수 있음."
      ]
    },
    {
      "cell_type": "code",
      "metadata": {
        "id": "BCAszXIbCGqT"
      },
      "source": [
        "data= []\n",
        "for f in train.columns :\n",
        "  if f == 'target' :\n",
        "    role = 'target'\n",
        "  elif f == 'id' :\n",
        "    role = 'id'\n",
        "  else :\n",
        "    role = 'input'\n",
        "\n",
        "  if 'bin' in f or f == 'target' :\n",
        "    level = 'binary'\n",
        "  elif 'cat' in f or f == 'id' :\n",
        "    level = 'nominal'\n",
        "  elif train[f].dtype=='float' :\n",
        "    level = 'interval'\n",
        "  elif train[f].dtypes == int :\n",
        "    level = 'ordinal'\n",
        "\n",
        "  keep = True\n",
        "  if f == 'id' :\n",
        "    keep = False\n",
        "  \n",
        "  dtype = train[f].dtypes\n",
        "\n",
        "  f_dict = {\n",
        "      'varname' : f,\n",
        "      'role' : role,\n",
        "      'level' : level,\n",
        "      'keep' : keep,\n",
        "      'dtype' : dtype\n",
        "  }\n",
        "  data.append(f_dict)\n",
        "\n",
        "meta = pd.DataFrame(data, columns = f_dict.keys())\n",
        "meta.set_index('varname',inplace=True) # column 명으로 index 설정\n",
        "\n",
        "\n"
      ],
      "execution_count": null,
      "outputs": []
    },
    {
      "cell_type": "code",
      "metadata": {
        "colab": {
          "base_uri": "https://localhost:8080/",
          "height": 1000
        },
        "id": "0iqk_P1TF0Nd",
        "outputId": "51cc9015-c174-4051-93eb-7ad6fa2b33a7"
      },
      "source": [
        "meta"
      ],
      "execution_count": null,
      "outputs": [
        {
          "output_type": "execute_result",
          "data": {
            "text/html": [
              "<div>\n",
              "<style scoped>\n",
              "    .dataframe tbody tr th:only-of-type {\n",
              "        vertical-align: middle;\n",
              "    }\n",
              "\n",
              "    .dataframe tbody tr th {\n",
              "        vertical-align: top;\n",
              "    }\n",
              "\n",
              "    .dataframe thead th {\n",
              "        text-align: right;\n",
              "    }\n",
              "</style>\n",
              "<table border=\"1\" class=\"dataframe\">\n",
              "  <thead>\n",
              "    <tr style=\"text-align: right;\">\n",
              "      <th></th>\n",
              "      <th>role</th>\n",
              "      <th>level</th>\n",
              "      <th>keep</th>\n",
              "      <th>dtype</th>\n",
              "    </tr>\n",
              "    <tr>\n",
              "      <th>varname</th>\n",
              "      <th></th>\n",
              "      <th></th>\n",
              "      <th></th>\n",
              "      <th></th>\n",
              "    </tr>\n",
              "  </thead>\n",
              "  <tbody>\n",
              "    <tr>\n",
              "      <th>id</th>\n",
              "      <td>id</td>\n",
              "      <td>nominal</td>\n",
              "      <td>False</td>\n",
              "      <td>int64</td>\n",
              "    </tr>\n",
              "    <tr>\n",
              "      <th>target</th>\n",
              "      <td>target</td>\n",
              "      <td>binary</td>\n",
              "      <td>True</td>\n",
              "      <td>int64</td>\n",
              "    </tr>\n",
              "    <tr>\n",
              "      <th>ps_ind_01</th>\n",
              "      <td>input</td>\n",
              "      <td>ordinal</td>\n",
              "      <td>True</td>\n",
              "      <td>int64</td>\n",
              "    </tr>\n",
              "    <tr>\n",
              "      <th>ps_ind_02_cat</th>\n",
              "      <td>input</td>\n",
              "      <td>nominal</td>\n",
              "      <td>True</td>\n",
              "      <td>int64</td>\n",
              "    </tr>\n",
              "    <tr>\n",
              "      <th>ps_ind_03</th>\n",
              "      <td>input</td>\n",
              "      <td>ordinal</td>\n",
              "      <td>True</td>\n",
              "      <td>int64</td>\n",
              "    </tr>\n",
              "    <tr>\n",
              "      <th>ps_ind_04_cat</th>\n",
              "      <td>input</td>\n",
              "      <td>nominal</td>\n",
              "      <td>True</td>\n",
              "      <td>int64</td>\n",
              "    </tr>\n",
              "    <tr>\n",
              "      <th>ps_ind_05_cat</th>\n",
              "      <td>input</td>\n",
              "      <td>nominal</td>\n",
              "      <td>True</td>\n",
              "      <td>int64</td>\n",
              "    </tr>\n",
              "    <tr>\n",
              "      <th>ps_ind_06_bin</th>\n",
              "      <td>input</td>\n",
              "      <td>binary</td>\n",
              "      <td>True</td>\n",
              "      <td>int64</td>\n",
              "    </tr>\n",
              "    <tr>\n",
              "      <th>ps_ind_07_bin</th>\n",
              "      <td>input</td>\n",
              "      <td>binary</td>\n",
              "      <td>True</td>\n",
              "      <td>int64</td>\n",
              "    </tr>\n",
              "    <tr>\n",
              "      <th>ps_ind_08_bin</th>\n",
              "      <td>input</td>\n",
              "      <td>binary</td>\n",
              "      <td>True</td>\n",
              "      <td>int64</td>\n",
              "    </tr>\n",
              "    <tr>\n",
              "      <th>ps_ind_09_bin</th>\n",
              "      <td>input</td>\n",
              "      <td>binary</td>\n",
              "      <td>True</td>\n",
              "      <td>int64</td>\n",
              "    </tr>\n",
              "    <tr>\n",
              "      <th>ps_ind_10_bin</th>\n",
              "      <td>input</td>\n",
              "      <td>binary</td>\n",
              "      <td>True</td>\n",
              "      <td>int64</td>\n",
              "    </tr>\n",
              "    <tr>\n",
              "      <th>ps_ind_11_bin</th>\n",
              "      <td>input</td>\n",
              "      <td>binary</td>\n",
              "      <td>True</td>\n",
              "      <td>int64</td>\n",
              "    </tr>\n",
              "    <tr>\n",
              "      <th>ps_ind_12_bin</th>\n",
              "      <td>input</td>\n",
              "      <td>binary</td>\n",
              "      <td>True</td>\n",
              "      <td>int64</td>\n",
              "    </tr>\n",
              "    <tr>\n",
              "      <th>ps_ind_13_bin</th>\n",
              "      <td>input</td>\n",
              "      <td>binary</td>\n",
              "      <td>True</td>\n",
              "      <td>int64</td>\n",
              "    </tr>\n",
              "    <tr>\n",
              "      <th>ps_ind_14</th>\n",
              "      <td>input</td>\n",
              "      <td>ordinal</td>\n",
              "      <td>True</td>\n",
              "      <td>int64</td>\n",
              "    </tr>\n",
              "    <tr>\n",
              "      <th>ps_ind_15</th>\n",
              "      <td>input</td>\n",
              "      <td>ordinal</td>\n",
              "      <td>True</td>\n",
              "      <td>int64</td>\n",
              "    </tr>\n",
              "    <tr>\n",
              "      <th>ps_ind_16_bin</th>\n",
              "      <td>input</td>\n",
              "      <td>binary</td>\n",
              "      <td>True</td>\n",
              "      <td>int64</td>\n",
              "    </tr>\n",
              "    <tr>\n",
              "      <th>ps_ind_17_bin</th>\n",
              "      <td>input</td>\n",
              "      <td>binary</td>\n",
              "      <td>True</td>\n",
              "      <td>int64</td>\n",
              "    </tr>\n",
              "    <tr>\n",
              "      <th>ps_ind_18_bin</th>\n",
              "      <td>input</td>\n",
              "      <td>binary</td>\n",
              "      <td>True</td>\n",
              "      <td>int64</td>\n",
              "    </tr>\n",
              "    <tr>\n",
              "      <th>ps_reg_01</th>\n",
              "      <td>input</td>\n",
              "      <td>interval</td>\n",
              "      <td>True</td>\n",
              "      <td>float64</td>\n",
              "    </tr>\n",
              "    <tr>\n",
              "      <th>ps_reg_02</th>\n",
              "      <td>input</td>\n",
              "      <td>interval</td>\n",
              "      <td>True</td>\n",
              "      <td>float64</td>\n",
              "    </tr>\n",
              "    <tr>\n",
              "      <th>ps_reg_03</th>\n",
              "      <td>input</td>\n",
              "      <td>interval</td>\n",
              "      <td>True</td>\n",
              "      <td>float64</td>\n",
              "    </tr>\n",
              "    <tr>\n",
              "      <th>ps_car_01_cat</th>\n",
              "      <td>input</td>\n",
              "      <td>nominal</td>\n",
              "      <td>True</td>\n",
              "      <td>int64</td>\n",
              "    </tr>\n",
              "    <tr>\n",
              "      <th>ps_car_02_cat</th>\n",
              "      <td>input</td>\n",
              "      <td>nominal</td>\n",
              "      <td>True</td>\n",
              "      <td>int64</td>\n",
              "    </tr>\n",
              "    <tr>\n",
              "      <th>ps_car_03_cat</th>\n",
              "      <td>input</td>\n",
              "      <td>nominal</td>\n",
              "      <td>True</td>\n",
              "      <td>int64</td>\n",
              "    </tr>\n",
              "    <tr>\n",
              "      <th>ps_car_04_cat</th>\n",
              "      <td>input</td>\n",
              "      <td>nominal</td>\n",
              "      <td>True</td>\n",
              "      <td>int64</td>\n",
              "    </tr>\n",
              "    <tr>\n",
              "      <th>ps_car_05_cat</th>\n",
              "      <td>input</td>\n",
              "      <td>nominal</td>\n",
              "      <td>True</td>\n",
              "      <td>int64</td>\n",
              "    </tr>\n",
              "    <tr>\n",
              "      <th>ps_car_06_cat</th>\n",
              "      <td>input</td>\n",
              "      <td>nominal</td>\n",
              "      <td>True</td>\n",
              "      <td>int64</td>\n",
              "    </tr>\n",
              "    <tr>\n",
              "      <th>ps_car_07_cat</th>\n",
              "      <td>input</td>\n",
              "      <td>nominal</td>\n",
              "      <td>True</td>\n",
              "      <td>int64</td>\n",
              "    </tr>\n",
              "    <tr>\n",
              "      <th>ps_car_08_cat</th>\n",
              "      <td>input</td>\n",
              "      <td>nominal</td>\n",
              "      <td>True</td>\n",
              "      <td>int64</td>\n",
              "    </tr>\n",
              "    <tr>\n",
              "      <th>ps_car_09_cat</th>\n",
              "      <td>input</td>\n",
              "      <td>nominal</td>\n",
              "      <td>True</td>\n",
              "      <td>int64</td>\n",
              "    </tr>\n",
              "    <tr>\n",
              "      <th>ps_car_10_cat</th>\n",
              "      <td>input</td>\n",
              "      <td>nominal</td>\n",
              "      <td>True</td>\n",
              "      <td>int64</td>\n",
              "    </tr>\n",
              "    <tr>\n",
              "      <th>ps_car_11_cat</th>\n",
              "      <td>input</td>\n",
              "      <td>nominal</td>\n",
              "      <td>True</td>\n",
              "      <td>int64</td>\n",
              "    </tr>\n",
              "    <tr>\n",
              "      <th>ps_car_11</th>\n",
              "      <td>input</td>\n",
              "      <td>ordinal</td>\n",
              "      <td>True</td>\n",
              "      <td>int64</td>\n",
              "    </tr>\n",
              "    <tr>\n",
              "      <th>ps_car_12</th>\n",
              "      <td>input</td>\n",
              "      <td>interval</td>\n",
              "      <td>True</td>\n",
              "      <td>float64</td>\n",
              "    </tr>\n",
              "    <tr>\n",
              "      <th>ps_car_13</th>\n",
              "      <td>input</td>\n",
              "      <td>interval</td>\n",
              "      <td>True</td>\n",
              "      <td>float64</td>\n",
              "    </tr>\n",
              "    <tr>\n",
              "      <th>ps_car_14</th>\n",
              "      <td>input</td>\n",
              "      <td>interval</td>\n",
              "      <td>True</td>\n",
              "      <td>float64</td>\n",
              "    </tr>\n",
              "    <tr>\n",
              "      <th>ps_car_15</th>\n",
              "      <td>input</td>\n",
              "      <td>interval</td>\n",
              "      <td>True</td>\n",
              "      <td>float64</td>\n",
              "    </tr>\n",
              "    <tr>\n",
              "      <th>ps_calc_01</th>\n",
              "      <td>input</td>\n",
              "      <td>interval</td>\n",
              "      <td>True</td>\n",
              "      <td>float64</td>\n",
              "    </tr>\n",
              "    <tr>\n",
              "      <th>ps_calc_02</th>\n",
              "      <td>input</td>\n",
              "      <td>interval</td>\n",
              "      <td>True</td>\n",
              "      <td>float64</td>\n",
              "    </tr>\n",
              "    <tr>\n",
              "      <th>ps_calc_03</th>\n",
              "      <td>input</td>\n",
              "      <td>interval</td>\n",
              "      <td>True</td>\n",
              "      <td>float64</td>\n",
              "    </tr>\n",
              "    <tr>\n",
              "      <th>ps_calc_04</th>\n",
              "      <td>input</td>\n",
              "      <td>ordinal</td>\n",
              "      <td>True</td>\n",
              "      <td>int64</td>\n",
              "    </tr>\n",
              "    <tr>\n",
              "      <th>ps_calc_05</th>\n",
              "      <td>input</td>\n",
              "      <td>ordinal</td>\n",
              "      <td>True</td>\n",
              "      <td>int64</td>\n",
              "    </tr>\n",
              "    <tr>\n",
              "      <th>ps_calc_06</th>\n",
              "      <td>input</td>\n",
              "      <td>ordinal</td>\n",
              "      <td>True</td>\n",
              "      <td>int64</td>\n",
              "    </tr>\n",
              "    <tr>\n",
              "      <th>ps_calc_07</th>\n",
              "      <td>input</td>\n",
              "      <td>ordinal</td>\n",
              "      <td>True</td>\n",
              "      <td>int64</td>\n",
              "    </tr>\n",
              "    <tr>\n",
              "      <th>ps_calc_08</th>\n",
              "      <td>input</td>\n",
              "      <td>ordinal</td>\n",
              "      <td>True</td>\n",
              "      <td>int64</td>\n",
              "    </tr>\n",
              "    <tr>\n",
              "      <th>ps_calc_09</th>\n",
              "      <td>input</td>\n",
              "      <td>ordinal</td>\n",
              "      <td>True</td>\n",
              "      <td>int64</td>\n",
              "    </tr>\n",
              "    <tr>\n",
              "      <th>ps_calc_10</th>\n",
              "      <td>input</td>\n",
              "      <td>ordinal</td>\n",
              "      <td>True</td>\n",
              "      <td>int64</td>\n",
              "    </tr>\n",
              "    <tr>\n",
              "      <th>ps_calc_11</th>\n",
              "      <td>input</td>\n",
              "      <td>ordinal</td>\n",
              "      <td>True</td>\n",
              "      <td>int64</td>\n",
              "    </tr>\n",
              "    <tr>\n",
              "      <th>ps_calc_12</th>\n",
              "      <td>input</td>\n",
              "      <td>ordinal</td>\n",
              "      <td>True</td>\n",
              "      <td>int64</td>\n",
              "    </tr>\n",
              "    <tr>\n",
              "      <th>ps_calc_13</th>\n",
              "      <td>input</td>\n",
              "      <td>ordinal</td>\n",
              "      <td>True</td>\n",
              "      <td>int64</td>\n",
              "    </tr>\n",
              "    <tr>\n",
              "      <th>ps_calc_14</th>\n",
              "      <td>input</td>\n",
              "      <td>ordinal</td>\n",
              "      <td>True</td>\n",
              "      <td>int64</td>\n",
              "    </tr>\n",
              "    <tr>\n",
              "      <th>ps_calc_15_bin</th>\n",
              "      <td>input</td>\n",
              "      <td>binary</td>\n",
              "      <td>True</td>\n",
              "      <td>int64</td>\n",
              "    </tr>\n",
              "    <tr>\n",
              "      <th>ps_calc_16_bin</th>\n",
              "      <td>input</td>\n",
              "      <td>binary</td>\n",
              "      <td>True</td>\n",
              "      <td>int64</td>\n",
              "    </tr>\n",
              "    <tr>\n",
              "      <th>ps_calc_17_bin</th>\n",
              "      <td>input</td>\n",
              "      <td>binary</td>\n",
              "      <td>True</td>\n",
              "      <td>int64</td>\n",
              "    </tr>\n",
              "    <tr>\n",
              "      <th>ps_calc_18_bin</th>\n",
              "      <td>input</td>\n",
              "      <td>binary</td>\n",
              "      <td>True</td>\n",
              "      <td>int64</td>\n",
              "    </tr>\n",
              "    <tr>\n",
              "      <th>ps_calc_19_bin</th>\n",
              "      <td>input</td>\n",
              "      <td>binary</td>\n",
              "      <td>True</td>\n",
              "      <td>int64</td>\n",
              "    </tr>\n",
              "    <tr>\n",
              "      <th>ps_calc_20_bin</th>\n",
              "      <td>input</td>\n",
              "      <td>binary</td>\n",
              "      <td>True</td>\n",
              "      <td>int64</td>\n",
              "    </tr>\n",
              "  </tbody>\n",
              "</table>\n",
              "</div>"
            ],
            "text/plain": [
              "                  role     level   keep    dtype\n",
              "varname                                         \n",
              "id                  id   nominal  False    int64\n",
              "target          target    binary   True    int64\n",
              "ps_ind_01        input   ordinal   True    int64\n",
              "ps_ind_02_cat    input   nominal   True    int64\n",
              "ps_ind_03        input   ordinal   True    int64\n",
              "ps_ind_04_cat    input   nominal   True    int64\n",
              "ps_ind_05_cat    input   nominal   True    int64\n",
              "ps_ind_06_bin    input    binary   True    int64\n",
              "ps_ind_07_bin    input    binary   True    int64\n",
              "ps_ind_08_bin    input    binary   True    int64\n",
              "ps_ind_09_bin    input    binary   True    int64\n",
              "ps_ind_10_bin    input    binary   True    int64\n",
              "ps_ind_11_bin    input    binary   True    int64\n",
              "ps_ind_12_bin    input    binary   True    int64\n",
              "ps_ind_13_bin    input    binary   True    int64\n",
              "ps_ind_14        input   ordinal   True    int64\n",
              "ps_ind_15        input   ordinal   True    int64\n",
              "ps_ind_16_bin    input    binary   True    int64\n",
              "ps_ind_17_bin    input    binary   True    int64\n",
              "ps_ind_18_bin    input    binary   True    int64\n",
              "ps_reg_01        input  interval   True  float64\n",
              "ps_reg_02        input  interval   True  float64\n",
              "ps_reg_03        input  interval   True  float64\n",
              "ps_car_01_cat    input   nominal   True    int64\n",
              "ps_car_02_cat    input   nominal   True    int64\n",
              "ps_car_03_cat    input   nominal   True    int64\n",
              "ps_car_04_cat    input   nominal   True    int64\n",
              "ps_car_05_cat    input   nominal   True    int64\n",
              "ps_car_06_cat    input   nominal   True    int64\n",
              "ps_car_07_cat    input   nominal   True    int64\n",
              "ps_car_08_cat    input   nominal   True    int64\n",
              "ps_car_09_cat    input   nominal   True    int64\n",
              "ps_car_10_cat    input   nominal   True    int64\n",
              "ps_car_11_cat    input   nominal   True    int64\n",
              "ps_car_11        input   ordinal   True    int64\n",
              "ps_car_12        input  interval   True  float64\n",
              "ps_car_13        input  interval   True  float64\n",
              "ps_car_14        input  interval   True  float64\n",
              "ps_car_15        input  interval   True  float64\n",
              "ps_calc_01       input  interval   True  float64\n",
              "ps_calc_02       input  interval   True  float64\n",
              "ps_calc_03       input  interval   True  float64\n",
              "ps_calc_04       input   ordinal   True    int64\n",
              "ps_calc_05       input   ordinal   True    int64\n",
              "ps_calc_06       input   ordinal   True    int64\n",
              "ps_calc_07       input   ordinal   True    int64\n",
              "ps_calc_08       input   ordinal   True    int64\n",
              "ps_calc_09       input   ordinal   True    int64\n",
              "ps_calc_10       input   ordinal   True    int64\n",
              "ps_calc_11       input   ordinal   True    int64\n",
              "ps_calc_12       input   ordinal   True    int64\n",
              "ps_calc_13       input   ordinal   True    int64\n",
              "ps_calc_14       input   ordinal   True    int64\n",
              "ps_calc_15_bin   input    binary   True    int64\n",
              "ps_calc_16_bin   input    binary   True    int64\n",
              "ps_calc_17_bin   input    binary   True    int64\n",
              "ps_calc_18_bin   input    binary   True    int64\n",
              "ps_calc_19_bin   input    binary   True    int64\n",
              "ps_calc_20_bin   input    binary   True    int64"
            ]
          },
          "metadata": {},
          "execution_count": 103
        }
      ]
    },
    {
      "cell_type": "code",
      "metadata": {
        "colab": {
          "base_uri": "https://localhost:8080/"
        },
        "id": "44Jox_PnF8aq",
        "outputId": "afda0d02-5432-4bf6-b106-2c8b82a24a7e"
      },
      "source": [
        "# meta 데이터 사용 시 데이터 추출 용이 example\n",
        "meta[(meta.level == 'nominal') & (meta.keep)].index"
      ],
      "execution_count": null,
      "outputs": [
        {
          "output_type": "execute_result",
          "data": {
            "text/plain": [
              "Index(['ps_ind_02_cat', 'ps_ind_04_cat', 'ps_ind_05_cat', 'ps_car_01_cat',\n",
              "       'ps_car_02_cat', 'ps_car_03_cat', 'ps_car_04_cat', 'ps_car_05_cat',\n",
              "       'ps_car_06_cat', 'ps_car_07_cat', 'ps_car_08_cat', 'ps_car_09_cat',\n",
              "       'ps_car_10_cat', 'ps_car_11_cat'],\n",
              "      dtype='object', name='varname')"
            ]
          },
          "metadata": {},
          "execution_count": 104
        }
      ]
    },
    {
      "cell_type": "code",
      "metadata": {
        "colab": {
          "base_uri": "https://localhost:8080/",
          "height": 232
        },
        "id": "xB7hDdfHGV8F",
        "outputId": "78e33c28-3482-4c46-db41-a746b200ac80"
      },
      "source": [
        "pd.DataFrame({'count':meta.groupby(['role','level'])['role'].size()}).reset_index()"
      ],
      "execution_count": null,
      "outputs": [
        {
          "output_type": "execute_result",
          "data": {
            "text/html": [
              "<div>\n",
              "<style scoped>\n",
              "    .dataframe tbody tr th:only-of-type {\n",
              "        vertical-align: middle;\n",
              "    }\n",
              "\n",
              "    .dataframe tbody tr th {\n",
              "        vertical-align: top;\n",
              "    }\n",
              "\n",
              "    .dataframe thead th {\n",
              "        text-align: right;\n",
              "    }\n",
              "</style>\n",
              "<table border=\"1\" class=\"dataframe\">\n",
              "  <thead>\n",
              "    <tr style=\"text-align: right;\">\n",
              "      <th></th>\n",
              "      <th>role</th>\n",
              "      <th>level</th>\n",
              "      <th>count</th>\n",
              "    </tr>\n",
              "  </thead>\n",
              "  <tbody>\n",
              "    <tr>\n",
              "      <th>0</th>\n",
              "      <td>id</td>\n",
              "      <td>nominal</td>\n",
              "      <td>1</td>\n",
              "    </tr>\n",
              "    <tr>\n",
              "      <th>1</th>\n",
              "      <td>input</td>\n",
              "      <td>binary</td>\n",
              "      <td>17</td>\n",
              "    </tr>\n",
              "    <tr>\n",
              "      <th>2</th>\n",
              "      <td>input</td>\n",
              "      <td>interval</td>\n",
              "      <td>10</td>\n",
              "    </tr>\n",
              "    <tr>\n",
              "      <th>3</th>\n",
              "      <td>input</td>\n",
              "      <td>nominal</td>\n",
              "      <td>14</td>\n",
              "    </tr>\n",
              "    <tr>\n",
              "      <th>4</th>\n",
              "      <td>input</td>\n",
              "      <td>ordinal</td>\n",
              "      <td>16</td>\n",
              "    </tr>\n",
              "    <tr>\n",
              "      <th>5</th>\n",
              "      <td>target</td>\n",
              "      <td>binary</td>\n",
              "      <td>1</td>\n",
              "    </tr>\n",
              "  </tbody>\n",
              "</table>\n",
              "</div>"
            ],
            "text/plain": [
              "     role     level  count\n",
              "0      id   nominal      1\n",
              "1   input    binary     17\n",
              "2   input  interval     10\n",
              "3   input   nominal     14\n",
              "4   input   ordinal     16\n",
              "5  target    binary      1"
            ]
          },
          "metadata": {},
          "execution_count": 105
        }
      ]
    },
    {
      "cell_type": "code",
      "metadata": {
        "colab": {
          "base_uri": "https://localhost:8080/",
          "height": 314
        },
        "id": "dl1pumj2Gob7",
        "outputId": "f4328173-f627-4bb1-8187-3da73849ebe6"
      },
      "source": [
        "v = meta[(meta.level == 'interval')& (meta.keep)].index\n",
        "train[v].describe()"
      ],
      "execution_count": null,
      "outputs": [
        {
          "output_type": "execute_result",
          "data": {
            "text/html": [
              "<div>\n",
              "<style scoped>\n",
              "    .dataframe tbody tr th:only-of-type {\n",
              "        vertical-align: middle;\n",
              "    }\n",
              "\n",
              "    .dataframe tbody tr th {\n",
              "        vertical-align: top;\n",
              "    }\n",
              "\n",
              "    .dataframe thead th {\n",
              "        text-align: right;\n",
              "    }\n",
              "</style>\n",
              "<table border=\"1\" class=\"dataframe\">\n",
              "  <thead>\n",
              "    <tr style=\"text-align: right;\">\n",
              "      <th></th>\n",
              "      <th>ps_reg_01</th>\n",
              "      <th>ps_reg_02</th>\n",
              "      <th>ps_reg_03</th>\n",
              "      <th>ps_car_12</th>\n",
              "      <th>ps_car_13</th>\n",
              "      <th>ps_car_14</th>\n",
              "      <th>ps_car_15</th>\n",
              "      <th>ps_calc_01</th>\n",
              "      <th>ps_calc_02</th>\n",
              "      <th>ps_calc_03</th>\n",
              "    </tr>\n",
              "  </thead>\n",
              "  <tbody>\n",
              "    <tr>\n",
              "      <th>count</th>\n",
              "      <td>595212.000000</td>\n",
              "      <td>595212.000000</td>\n",
              "      <td>595212.000000</td>\n",
              "      <td>595212.000000</td>\n",
              "      <td>595212.000000</td>\n",
              "      <td>595212.000000</td>\n",
              "      <td>595212.000000</td>\n",
              "      <td>595212.000000</td>\n",
              "      <td>595212.000000</td>\n",
              "      <td>595212.000000</td>\n",
              "    </tr>\n",
              "    <tr>\n",
              "      <th>mean</th>\n",
              "      <td>0.610991</td>\n",
              "      <td>0.439184</td>\n",
              "      <td>0.551102</td>\n",
              "      <td>0.379945</td>\n",
              "      <td>0.813265</td>\n",
              "      <td>0.276256</td>\n",
              "      <td>3.065899</td>\n",
              "      <td>0.449756</td>\n",
              "      <td>0.449589</td>\n",
              "      <td>0.449849</td>\n",
              "    </tr>\n",
              "    <tr>\n",
              "      <th>std</th>\n",
              "      <td>0.287643</td>\n",
              "      <td>0.404264</td>\n",
              "      <td>0.793506</td>\n",
              "      <td>0.058327</td>\n",
              "      <td>0.224588</td>\n",
              "      <td>0.357154</td>\n",
              "      <td>0.731366</td>\n",
              "      <td>0.287198</td>\n",
              "      <td>0.286893</td>\n",
              "      <td>0.287153</td>\n",
              "    </tr>\n",
              "    <tr>\n",
              "      <th>min</th>\n",
              "      <td>0.000000</td>\n",
              "      <td>0.000000</td>\n",
              "      <td>-1.000000</td>\n",
              "      <td>-1.000000</td>\n",
              "      <td>0.250619</td>\n",
              "      <td>-1.000000</td>\n",
              "      <td>0.000000</td>\n",
              "      <td>0.000000</td>\n",
              "      <td>0.000000</td>\n",
              "      <td>0.000000</td>\n",
              "    </tr>\n",
              "    <tr>\n",
              "      <th>25%</th>\n",
              "      <td>0.400000</td>\n",
              "      <td>0.200000</td>\n",
              "      <td>0.525000</td>\n",
              "      <td>0.316228</td>\n",
              "      <td>0.670867</td>\n",
              "      <td>0.333167</td>\n",
              "      <td>2.828427</td>\n",
              "      <td>0.200000</td>\n",
              "      <td>0.200000</td>\n",
              "      <td>0.200000</td>\n",
              "    </tr>\n",
              "    <tr>\n",
              "      <th>50%</th>\n",
              "      <td>0.700000</td>\n",
              "      <td>0.300000</td>\n",
              "      <td>0.720677</td>\n",
              "      <td>0.374166</td>\n",
              "      <td>0.765811</td>\n",
              "      <td>0.368782</td>\n",
              "      <td>3.316625</td>\n",
              "      <td>0.500000</td>\n",
              "      <td>0.400000</td>\n",
              "      <td>0.500000</td>\n",
              "    </tr>\n",
              "    <tr>\n",
              "      <th>75%</th>\n",
              "      <td>0.900000</td>\n",
              "      <td>0.600000</td>\n",
              "      <td>1.000000</td>\n",
              "      <td>0.400000</td>\n",
              "      <td>0.906190</td>\n",
              "      <td>0.396485</td>\n",
              "      <td>3.605551</td>\n",
              "      <td>0.700000</td>\n",
              "      <td>0.700000</td>\n",
              "      <td>0.700000</td>\n",
              "    </tr>\n",
              "    <tr>\n",
              "      <th>max</th>\n",
              "      <td>0.900000</td>\n",
              "      <td>1.800000</td>\n",
              "      <td>4.037945</td>\n",
              "      <td>1.264911</td>\n",
              "      <td>3.720626</td>\n",
              "      <td>0.636396</td>\n",
              "      <td>3.741657</td>\n",
              "      <td>0.900000</td>\n",
              "      <td>0.900000</td>\n",
              "      <td>0.900000</td>\n",
              "    </tr>\n",
              "  </tbody>\n",
              "</table>\n",
              "</div>"
            ],
            "text/plain": [
              "           ps_reg_01      ps_reg_02      ps_reg_03      ps_car_12  \\\n",
              "count  595212.000000  595212.000000  595212.000000  595212.000000   \n",
              "mean        0.610991       0.439184       0.551102       0.379945   \n",
              "std         0.287643       0.404264       0.793506       0.058327   \n",
              "min         0.000000       0.000000      -1.000000      -1.000000   \n",
              "25%         0.400000       0.200000       0.525000       0.316228   \n",
              "50%         0.700000       0.300000       0.720677       0.374166   \n",
              "75%         0.900000       0.600000       1.000000       0.400000   \n",
              "max         0.900000       1.800000       4.037945       1.264911   \n",
              "\n",
              "           ps_car_13      ps_car_14      ps_car_15     ps_calc_01  \\\n",
              "count  595212.000000  595212.000000  595212.000000  595212.000000   \n",
              "mean        0.813265       0.276256       3.065899       0.449756   \n",
              "std         0.224588       0.357154       0.731366       0.287198   \n",
              "min         0.250619      -1.000000       0.000000       0.000000   \n",
              "25%         0.670867       0.333167       2.828427       0.200000   \n",
              "50%         0.765811       0.368782       3.316625       0.500000   \n",
              "75%         0.906190       0.396485       3.605551       0.700000   \n",
              "max         3.720626       0.636396       3.741657       0.900000   \n",
              "\n",
              "          ps_calc_02     ps_calc_03  \n",
              "count  595212.000000  595212.000000  \n",
              "mean        0.449589       0.449849  \n",
              "std         0.286893       0.287153  \n",
              "min         0.000000       0.000000  \n",
              "25%         0.200000       0.200000  \n",
              "50%         0.400000       0.500000  \n",
              "75%         0.700000       0.700000  \n",
              "max         0.900000       0.900000  "
            ]
          },
          "metadata": {},
          "execution_count": 106
        }
      ]
    },
    {
      "cell_type": "markdown",
      "metadata": {
        "id": "v1nxV9RbYZxt"
      },
      "source": [
        "min : -1 주목 : 결측값이 존재하는 column들\n",
        "\n",
        "\n",
        "\n",
        "*   ps_reg_03, ps_car_12, ps_car_14\n",
        "*   calc -> maximum이 모두 0.9로 비슷한 분포를 보이고 있음 cf ) car,reg 변수들은 scaling 필요\n",
        "\n"
      ]
    },
    {
      "cell_type": "code",
      "metadata": {
        "colab": {
          "base_uri": "https://localhost:8080/",
          "height": 314
        },
        "id": "RCEgoiUIV2MW",
        "outputId": "0d02472a-2f22-4535-b57f-8223b94d16bc"
      },
      "source": [
        "v = meta[(meta.level == 'binary') & (meta.keep)].index\n",
        "train[v].describe()"
      ],
      "execution_count": null,
      "outputs": [
        {
          "output_type": "execute_result",
          "data": {
            "text/html": [
              "<div>\n",
              "<style scoped>\n",
              "    .dataframe tbody tr th:only-of-type {\n",
              "        vertical-align: middle;\n",
              "    }\n",
              "\n",
              "    .dataframe tbody tr th {\n",
              "        vertical-align: top;\n",
              "    }\n",
              "\n",
              "    .dataframe thead th {\n",
              "        text-align: right;\n",
              "    }\n",
              "</style>\n",
              "<table border=\"1\" class=\"dataframe\">\n",
              "  <thead>\n",
              "    <tr style=\"text-align: right;\">\n",
              "      <th></th>\n",
              "      <th>target</th>\n",
              "      <th>ps_ind_06_bin</th>\n",
              "      <th>ps_ind_07_bin</th>\n",
              "      <th>ps_ind_08_bin</th>\n",
              "      <th>ps_ind_09_bin</th>\n",
              "      <th>ps_ind_10_bin</th>\n",
              "      <th>ps_ind_11_bin</th>\n",
              "      <th>ps_ind_12_bin</th>\n",
              "      <th>ps_ind_13_bin</th>\n",
              "      <th>ps_ind_16_bin</th>\n",
              "      <th>ps_ind_17_bin</th>\n",
              "      <th>ps_ind_18_bin</th>\n",
              "      <th>ps_calc_15_bin</th>\n",
              "      <th>ps_calc_16_bin</th>\n",
              "      <th>ps_calc_17_bin</th>\n",
              "      <th>ps_calc_18_bin</th>\n",
              "      <th>ps_calc_19_bin</th>\n",
              "      <th>ps_calc_20_bin</th>\n",
              "    </tr>\n",
              "  </thead>\n",
              "  <tbody>\n",
              "    <tr>\n",
              "      <th>count</th>\n",
              "      <td>595212.000000</td>\n",
              "      <td>595212.000000</td>\n",
              "      <td>595212.000000</td>\n",
              "      <td>595212.000000</td>\n",
              "      <td>595212.000000</td>\n",
              "      <td>595212.000000</td>\n",
              "      <td>595212.000000</td>\n",
              "      <td>595212.000000</td>\n",
              "      <td>595212.000000</td>\n",
              "      <td>595212.000000</td>\n",
              "      <td>595212.000000</td>\n",
              "      <td>595212.000000</td>\n",
              "      <td>595212.000000</td>\n",
              "      <td>595212.000000</td>\n",
              "      <td>595212.000000</td>\n",
              "      <td>595212.000000</td>\n",
              "      <td>595212.000000</td>\n",
              "      <td>595212.000000</td>\n",
              "    </tr>\n",
              "    <tr>\n",
              "      <th>mean</th>\n",
              "      <td>0.036448</td>\n",
              "      <td>0.393742</td>\n",
              "      <td>0.257033</td>\n",
              "      <td>0.163921</td>\n",
              "      <td>0.185304</td>\n",
              "      <td>0.000373</td>\n",
              "      <td>0.001692</td>\n",
              "      <td>0.009439</td>\n",
              "      <td>0.000948</td>\n",
              "      <td>0.660823</td>\n",
              "      <td>0.121081</td>\n",
              "      <td>0.153446</td>\n",
              "      <td>0.122427</td>\n",
              "      <td>0.627840</td>\n",
              "      <td>0.554182</td>\n",
              "      <td>0.287182</td>\n",
              "      <td>0.349024</td>\n",
              "      <td>0.153318</td>\n",
              "    </tr>\n",
              "    <tr>\n",
              "      <th>std</th>\n",
              "      <td>0.187401</td>\n",
              "      <td>0.488579</td>\n",
              "      <td>0.436998</td>\n",
              "      <td>0.370205</td>\n",
              "      <td>0.388544</td>\n",
              "      <td>0.019309</td>\n",
              "      <td>0.041097</td>\n",
              "      <td>0.096693</td>\n",
              "      <td>0.030768</td>\n",
              "      <td>0.473430</td>\n",
              "      <td>0.326222</td>\n",
              "      <td>0.360417</td>\n",
              "      <td>0.327779</td>\n",
              "      <td>0.483381</td>\n",
              "      <td>0.497056</td>\n",
              "      <td>0.452447</td>\n",
              "      <td>0.476662</td>\n",
              "      <td>0.360295</td>\n",
              "    </tr>\n",
              "    <tr>\n",
              "      <th>min</th>\n",
              "      <td>0.000000</td>\n",
              "      <td>0.000000</td>\n",
              "      <td>0.000000</td>\n",
              "      <td>0.000000</td>\n",
              "      <td>0.000000</td>\n",
              "      <td>0.000000</td>\n",
              "      <td>0.000000</td>\n",
              "      <td>0.000000</td>\n",
              "      <td>0.000000</td>\n",
              "      <td>0.000000</td>\n",
              "      <td>0.000000</td>\n",
              "      <td>0.000000</td>\n",
              "      <td>0.000000</td>\n",
              "      <td>0.000000</td>\n",
              "      <td>0.000000</td>\n",
              "      <td>0.000000</td>\n",
              "      <td>0.000000</td>\n",
              "      <td>0.000000</td>\n",
              "    </tr>\n",
              "    <tr>\n",
              "      <th>25%</th>\n",
              "      <td>0.000000</td>\n",
              "      <td>0.000000</td>\n",
              "      <td>0.000000</td>\n",
              "      <td>0.000000</td>\n",
              "      <td>0.000000</td>\n",
              "      <td>0.000000</td>\n",
              "      <td>0.000000</td>\n",
              "      <td>0.000000</td>\n",
              "      <td>0.000000</td>\n",
              "      <td>0.000000</td>\n",
              "      <td>0.000000</td>\n",
              "      <td>0.000000</td>\n",
              "      <td>0.000000</td>\n",
              "      <td>0.000000</td>\n",
              "      <td>0.000000</td>\n",
              "      <td>0.000000</td>\n",
              "      <td>0.000000</td>\n",
              "      <td>0.000000</td>\n",
              "    </tr>\n",
              "    <tr>\n",
              "      <th>50%</th>\n",
              "      <td>0.000000</td>\n",
              "      <td>0.000000</td>\n",
              "      <td>0.000000</td>\n",
              "      <td>0.000000</td>\n",
              "      <td>0.000000</td>\n",
              "      <td>0.000000</td>\n",
              "      <td>0.000000</td>\n",
              "      <td>0.000000</td>\n",
              "      <td>0.000000</td>\n",
              "      <td>1.000000</td>\n",
              "      <td>0.000000</td>\n",
              "      <td>0.000000</td>\n",
              "      <td>0.000000</td>\n",
              "      <td>1.000000</td>\n",
              "      <td>1.000000</td>\n",
              "      <td>0.000000</td>\n",
              "      <td>0.000000</td>\n",
              "      <td>0.000000</td>\n",
              "    </tr>\n",
              "    <tr>\n",
              "      <th>75%</th>\n",
              "      <td>0.000000</td>\n",
              "      <td>1.000000</td>\n",
              "      <td>1.000000</td>\n",
              "      <td>0.000000</td>\n",
              "      <td>0.000000</td>\n",
              "      <td>0.000000</td>\n",
              "      <td>0.000000</td>\n",
              "      <td>0.000000</td>\n",
              "      <td>0.000000</td>\n",
              "      <td>1.000000</td>\n",
              "      <td>0.000000</td>\n",
              "      <td>0.000000</td>\n",
              "      <td>0.000000</td>\n",
              "      <td>1.000000</td>\n",
              "      <td>1.000000</td>\n",
              "      <td>1.000000</td>\n",
              "      <td>1.000000</td>\n",
              "      <td>0.000000</td>\n",
              "    </tr>\n",
              "    <tr>\n",
              "      <th>max</th>\n",
              "      <td>1.000000</td>\n",
              "      <td>1.000000</td>\n",
              "      <td>1.000000</td>\n",
              "      <td>1.000000</td>\n",
              "      <td>1.000000</td>\n",
              "      <td>1.000000</td>\n",
              "      <td>1.000000</td>\n",
              "      <td>1.000000</td>\n",
              "      <td>1.000000</td>\n",
              "      <td>1.000000</td>\n",
              "      <td>1.000000</td>\n",
              "      <td>1.000000</td>\n",
              "      <td>1.000000</td>\n",
              "      <td>1.000000</td>\n",
              "      <td>1.000000</td>\n",
              "      <td>1.000000</td>\n",
              "      <td>1.000000</td>\n",
              "      <td>1.000000</td>\n",
              "    </tr>\n",
              "  </tbody>\n",
              "</table>\n",
              "</div>"
            ],
            "text/plain": [
              "              target  ps_ind_06_bin  ps_ind_07_bin  ps_ind_08_bin  \\\n",
              "count  595212.000000  595212.000000  595212.000000  595212.000000   \n",
              "mean        0.036448       0.393742       0.257033       0.163921   \n",
              "std         0.187401       0.488579       0.436998       0.370205   \n",
              "min         0.000000       0.000000       0.000000       0.000000   \n",
              "25%         0.000000       0.000000       0.000000       0.000000   \n",
              "50%         0.000000       0.000000       0.000000       0.000000   \n",
              "75%         0.000000       1.000000       1.000000       0.000000   \n",
              "max         1.000000       1.000000       1.000000       1.000000   \n",
              "\n",
              "       ps_ind_09_bin  ps_ind_10_bin  ps_ind_11_bin  ps_ind_12_bin  \\\n",
              "count  595212.000000  595212.000000  595212.000000  595212.000000   \n",
              "mean        0.185304       0.000373       0.001692       0.009439   \n",
              "std         0.388544       0.019309       0.041097       0.096693   \n",
              "min         0.000000       0.000000       0.000000       0.000000   \n",
              "25%         0.000000       0.000000       0.000000       0.000000   \n",
              "50%         0.000000       0.000000       0.000000       0.000000   \n",
              "75%         0.000000       0.000000       0.000000       0.000000   \n",
              "max         1.000000       1.000000       1.000000       1.000000   \n",
              "\n",
              "       ps_ind_13_bin  ps_ind_16_bin  ps_ind_17_bin  ps_ind_18_bin  \\\n",
              "count  595212.000000  595212.000000  595212.000000  595212.000000   \n",
              "mean        0.000948       0.660823       0.121081       0.153446   \n",
              "std         0.030768       0.473430       0.326222       0.360417   \n",
              "min         0.000000       0.000000       0.000000       0.000000   \n",
              "25%         0.000000       0.000000       0.000000       0.000000   \n",
              "50%         0.000000       1.000000       0.000000       0.000000   \n",
              "75%         0.000000       1.000000       0.000000       0.000000   \n",
              "max         1.000000       1.000000       1.000000       1.000000   \n",
              "\n",
              "       ps_calc_15_bin  ps_calc_16_bin  ps_calc_17_bin  ps_calc_18_bin  \\\n",
              "count   595212.000000   595212.000000   595212.000000   595212.000000   \n",
              "mean         0.122427        0.627840        0.554182        0.287182   \n",
              "std          0.327779        0.483381        0.497056        0.452447   \n",
              "min          0.000000        0.000000        0.000000        0.000000   \n",
              "25%          0.000000        0.000000        0.000000        0.000000   \n",
              "50%          0.000000        1.000000        1.000000        0.000000   \n",
              "75%          0.000000        1.000000        1.000000        1.000000   \n",
              "max          1.000000        1.000000        1.000000        1.000000   \n",
              "\n",
              "       ps_calc_19_bin  ps_calc_20_bin  \n",
              "count   595212.000000   595212.000000  \n",
              "mean         0.349024        0.153318  \n",
              "std          0.476662        0.360295  \n",
              "min          0.000000        0.000000  \n",
              "25%          0.000000        0.000000  \n",
              "50%          0.000000        0.000000  \n",
              "75%          1.000000        0.000000  \n",
              "max          1.000000        1.000000  "
            ]
          },
          "metadata": {},
          "execution_count": 107
        }
      ]
    },
    {
      "cell_type": "markdown",
      "metadata": {
        "id": "17flrHjIjG29"
      },
      "source": [
        "## 불균형 데이터 조정"
      ]
    },
    {
      "cell_type": "markdown",
      "metadata": {
        "id": "ke07ZwkmdWSJ"
      },
      "source": [
        "타겟평균 0.0365 : 굉장히 불균형 데이터\n",
        "-> 해결방안\n",
        "\n",
        "\n",
        "1.   oversampling target = 1\n",
        "2.   undersampling target = 0\n",
        "\n",
        "undersampling 비율\n",
        "\n",
        "$$  {(1-\\alpha)*\\beta_1 \\over \\beta_2*\\alpha}$$\n"
      ]
    },
    {
      "cell_type": "code",
      "metadata": {
        "colab": {
          "base_uri": "https://localhost:8080/"
        },
        "id": "Ij4F0t0ic61F",
        "outputId": "e73b1ff1-6c79-4370-b34e-0620923864a3"
      },
      "source": [
        "desired_apriori = 0.1\n",
        "\n",
        "idx_0 = train[train.target == 0].index\n",
        "idx_1 = train[train.target == 1].index\n",
        "\n",
        "nb_0 = len(train.loc[idx_0])\n",
        "nb_1 = len(train.loc[idx_1])\n",
        "\n",
        "undersampling_rate = ((1-desired_apriori)*nb_1)/(nb_0*desired_apriori)\n",
        "undersampled_nb_0 = int(undersampling_rate*nb_0)\n",
        "print('Rate to undersample records with target=0 : {}'.format(undersampling_rate))\n",
        "print('Number of records with target=0 after undersampling : {}'.format(undersampled_nb_0))\n",
        "\n",
        "undersampled_idx = shuffle(idx_0, random_state = 37,\n",
        "                            n_samples =  undersampled_nb_0)\n",
        "\n",
        "idx_list = list(undersampled_idx) + list(idx_1)\n",
        "\n",
        "train = train.loc[idx_list].reset_index(drop=True)\n"
      ],
      "execution_count": null,
      "outputs": [
        {
          "output_type": "stream",
          "name": "stdout",
          "text": [
            "Rate to undersample records with target=0 : 0.34043569687437886\n",
            "Number of records with target=0 after undersampling : 195246\n"
          ]
        }
      ]
    },
    {
      "cell_type": "markdown",
      "metadata": {
        "id": "PbcryDyYjPRp"
      },
      "source": [
        "## 결측치 처리"
      ]
    },
    {
      "cell_type": "code",
      "metadata": {
        "colab": {
          "base_uri": "https://localhost:8080/"
        },
        "id": "aPwL4eJOftwD",
        "outputId": "fca24559-c2bb-4407-852c-76d6a8b1c563"
      },
      "source": [
        "vars_with_missing = []\n",
        "\n",
        "for f in train.columns :\n",
        "  missings = train[train[f] == -1][f].count()\n",
        "  if missings > 0 :\n",
        "    vars_with_missing.append(f)\n",
        "    missings_perc = missings/train.shape[0]\n",
        "\n",
        "    print('Variable {} has {} records ({:.2%}) with missing values'.format(f,missings,missings_perc))\n",
        "\n",
        "print('In total, there are {} variables with missing values'.format(len(vars_with_missing)))\n"
      ],
      "execution_count": null,
      "outputs": [
        {
          "output_type": "stream",
          "name": "stdout",
          "text": [
            "Variable ps_ind_02_cat has 103 records (0.05%) with missing values\n",
            "Variable ps_ind_04_cat has 51 records (0.02%) with missing values\n",
            "Variable ps_ind_05_cat has 2256 records (1.04%) with missing values\n",
            "Variable ps_reg_03 has 38580 records (17.78%) with missing values\n",
            "Variable ps_car_01_cat has 62 records (0.03%) with missing values\n",
            "Variable ps_car_02_cat has 2 records (0.00%) with missing values\n",
            "Variable ps_car_03_cat has 148367 records (68.39%) with missing values\n",
            "Variable ps_car_05_cat has 96026 records (44.26%) with missing values\n",
            "Variable ps_car_07_cat has 4431 records (2.04%) with missing values\n",
            "Variable ps_car_09_cat has 230 records (0.11%) with missing values\n",
            "Variable ps_car_11 has 1 records (0.00%) with missing values\n",
            "Variable ps_car_14 has 15726 records (7.25%) with missing values\n",
            "In total, there are 12 variables with missing values\n"
          ]
        }
      ]
    },
    {
      "cell_type": "markdown",
      "metadata": {
        "id": "fVFtnPMRmJFm"
      },
      "source": [
        "\n",
        "\n",
        "*   ps_car_03_cat, ps_car_05_cat : missing value가 변수의 상당수를 차지함 -> 변수 제거\n",
        "*   ps_reg_03 : 약 18%가 결측치 -> 평균으로 대체\n",
        "*   ps_car_12 & ps_car_14 : 평균으로 대체\n",
        "*   ps_car_11 : 범주형 변수이므로 mode로 대체\n",
        "\n",
        "\n"
      ]
    },
    {
      "cell_type": "markdown",
      "metadata": {
        "id": "qKtioWANnjbj"
      },
      "source": [
        "**[Mode]**\n",
        "\n",
        "범주형 변수에서 결측치를 가장 등장하는 값으로 대체하는 개념"
      ]
    },
    {
      "cell_type": "code",
      "metadata": {
        "id": "yTqe1JCNvD1q"
      },
      "source": [
        "vars_to_drop = ['ps_car_03_cat', 'ps_car_05_cat']\n",
        "train.drop(vars_to_drop, axis=1, inplace=True)\n",
        "meta.loc[(vars_to_drop),'keep'] = False # 변수 제거에 따라 meta data 업데이트"
      ],
      "execution_count": null,
      "outputs": []
    },
    {
      "cell_type": "code",
      "metadata": {
        "id": "bMsi0vbokUlk"
      },
      "source": [
        "mean_imp = SimpleImputer(missing_values=-1)\n",
        "mode_imp = SimpleImputer(missing_values=-1,strategy='most_frequent')\n",
        "train['ps_reg_03'] = mean_imp.fit_transform(train[['ps_reg_03']]).ravel() # ravel : 1차원 배열로 펼치는 역할 \n",
        "train['ps_car_12'] = mean_imp.fit_transform(train[['ps_car_12']]).ravel()\n",
        "train['ps_car_14'] = mean_imp.fit_transform(train[['ps_car_14']]).ravel()\n",
        "train['ps_car_11'] = mode_imp.fit_transform(train[['ps_car_11']]).ravel()"
      ],
      "execution_count": null,
      "outputs": []
    },
    {
      "cell_type": "code",
      "metadata": {
        "colab": {
          "base_uri": "https://localhost:8080/"
        },
        "id": "LsIyss2uqutn",
        "outputId": "de6e404c-7d4c-483f-e42c-ce96b77cbb72"
      },
      "source": [
        "v = meta[(meta.level == 'nominal') & (meta.keep)].index\n",
        "\n",
        "for f in v :\n",
        "  dist_values = train[f].value_counts().shape[0]\n",
        "  print('Variable {} has {} distinct values'.format(f, dist_values))"
      ],
      "execution_count": null,
      "outputs": [
        {
          "output_type": "stream",
          "name": "stdout",
          "text": [
            "Variable ps_ind_02_cat has 5 distinct values\n",
            "Variable ps_ind_04_cat has 3 distinct values\n",
            "Variable ps_ind_05_cat has 8 distinct values\n",
            "Variable ps_car_01_cat has 13 distinct values\n",
            "Variable ps_car_02_cat has 3 distinct values\n",
            "Variable ps_car_04_cat has 10 distinct values\n",
            "Variable ps_car_06_cat has 18 distinct values\n",
            "Variable ps_car_07_cat has 3 distinct values\n",
            "Variable ps_car_08_cat has 2 distinct values\n",
            "Variable ps_car_09_cat has 6 distinct values\n",
            "Variable ps_car_10_cat has 3 distinct values\n",
            "Variable ps_car_11_cat has 104 distinct values\n"
          ]
        }
      ]
    },
    {
      "cell_type": "markdown",
      "metadata": {
        "id": "ynTqKJDy_vn0"
      },
      "source": [
        "정형 데이터에서는 중요한 카테고리 변수에 대해 groupby를 통해 얼마나 좋은 feature를 만들어내는지가 중요 포인트"
      ]
    },
    {
      "cell_type": "markdown",
      "metadata": {
        "id": "QQMUgdRwJj_x"
      },
      "source": [
        "## 범주형 변수 인코딩\n",
        "\n",
        "해당 커널에서는 distinct value가 많은 ps_car_11_cat 변수들에 대해서는 mean encoding을 사용하였고, 나머지 범주형 변수들에 대해서는 더미 변수를 생성하는 one-hot encoding의 방식 사용\n",
        "### Mean encoding\n",
        "**목표**\n",
        "\n",
        "카테고리 변수에 대하여 (여기서는 104개의 카테고리를 가진 ps_car_11_cat 변수에 대하여) 단순하게 0,1로 구분된 target값에 대한 의미를 가지도록 만드는 것\n",
        "\n",
        "**Method**\n",
        "\n",
        "카테고리 변수의 Label 값에 따라서 Traget 값의 평균을 구해 각 Label이 Target과 가지는 상관성, 영향 도출\n",
        "\n",
        "** 단점 **\n",
        "\n",
        "1. target값을 이용해 계산하기 때문에 overfitting의 문제가 발생할 수 있음 -> 이 커널에서는 noise를 추가하는 방식으로 이 문제를 해결\n",
        "\n",
        "2. test 데이터와 train 데이터 간의 분포가 다른 경우 (ex. 한쪽이 불균형 데이터인 경우) 이때도 마찬가지로 overfitting의 문제 발생 가능 -> smoothing을 통해 문제 해결\n",
        "\n",
        "![image.png](data:image/png;base64,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)\n"
      ]
    },
    {
      "cell_type": "code",
      "metadata": {
        "id": "eGVx5aIBKjeY"
      },
      "source": [
        "trn_series = train['ps_car_11_cat']\n",
        "tst_series = test['ps_car_11_cat']\n",
        "target = train.target\n",
        "min_samples_leaf = 100\n",
        "smoothing = 10\n",
        "noise_level = 0.01"
      ],
      "execution_count": null,
      "outputs": []
    },
    {
      "cell_type": "code",
      "metadata": {
        "id": "Pzs0zqKF7S95"
      },
      "source": [
        "assert len(trn_series) == len(tst_series)"
      ],
      "execution_count": null,
      "outputs": []
    },
    {
      "cell_type": "code",
      "metadata": {
        "id": "sZJy2WFIK1KD"
      },
      "source": [
        "assert trn_series.name == tst_series.name"
      ],
      "execution_count": null,
      "outputs": []
    },
    {
      "cell_type": "code",
      "metadata": {
        "id": "cIkoNbuY6Sqi"
      },
      "source": [
        "temp = pd.concat([trn_series,target],axis=1)"
      ],
      "execution_count": null,
      "outputs": []
    },
    {
      "cell_type": "code",
      "metadata": {
        "id": "hQByKt1GLKol"
      },
      "source": [
        "average = temp.groupby(by=trn_series.name)[target.name].agg(['mean','count']) "
      ],
      "execution_count": null,
      "outputs": []
    },
    {
      "cell_type": "markdown",
      "metadata": {
        "id": "o3OYYXEmiS-F"
      },
      "source": [
        "* temp 변수를 'ps_car_11_cat'에 대해 그룹으로 묶음.\n",
        "* 각 그룹의 값은 0과 1로만 이루어져있으므로 이에 대해 mean과 count를 구함\n",
        "* agg - 모든 열에 동일한 함수 적용 (열별로 다르게 적용도 가능)"
      ]
    },
    {
      "cell_type": "code",
      "metadata": {
        "id": "5h4yosOJLOwl"
      },
      "source": [
        "def max_min(x) :\n",
        "  return x.max() - x.min()"
      ],
      "execution_count": null,
      "outputs": []
    },
    {
      "cell_type": "code",
      "metadata": {
        "colab": {
          "base_uri": "https://localhost:8080/"
        },
        "id": "e9WkWKQi7X7Z",
        "outputId": "0d00f2d7-251c-420f-a007-300a72b623d9"
      },
      "source": [
        "smoothing\n",
        "1/(1+np.exp(-average['count']-min_samples_leaf) / smoothing ) # smoothing을 해야 overfitting 문제를 해결할 수 있음"
      ],
      "execution_count": null,
      "outputs": [
        {
          "output_type": "execute_result",
          "data": {
            "text/plain": [
              "ps_car_11_cat\n",
              "1      1.0\n",
              "2      1.0\n",
              "3      1.0\n",
              "4      1.0\n",
              "5      1.0\n",
              "      ... \n",
              "100    1.0\n",
              "101    1.0\n",
              "102    1.0\n",
              "103    1.0\n",
              "104    1.0\n",
              "Name: count, Length: 104, dtype: float64"
            ]
          },
          "metadata": {},
          "execution_count": 119
        }
      ]
    },
    {
      "cell_type": "code",
      "metadata": {
        "id": "RRzmnC2yA9Rv"
      },
      "source": [
        "prior = target.mean()"
      ],
      "execution_count": null,
      "outputs": []
    },
    {
      "cell_type": "code",
      "metadata": {
        "id": "kjgWFzuRBBbJ"
      },
      "source": [
        "average[target.name] = prior*(1-smoothing) + average['mean']*smoothing"
      ],
      "execution_count": null,
      "outputs": []
    },
    {
      "cell_type": "code",
      "metadata": {
        "colab": {
          "base_uri": "https://localhost:8080/",
          "height": 445
        },
        "id": "tTgXfTiWBYUF",
        "outputId": "d3c421de-7b42-4c3c-fad2-a3266cc3410d"
      },
      "source": [
        "average"
      ],
      "execution_count": null,
      "outputs": [
        {
          "output_type": "execute_result",
          "data": {
            "text/html": [
              "<div>\n",
              "<style scoped>\n",
              "    .dataframe tbody tr th:only-of-type {\n",
              "        vertical-align: middle;\n",
              "    }\n",
              "\n",
              "    .dataframe tbody tr th {\n",
              "        vertical-align: top;\n",
              "    }\n",
              "\n",
              "    .dataframe thead th {\n",
              "        text-align: right;\n",
              "    }\n",
              "</style>\n",
              "<table border=\"1\" class=\"dataframe\">\n",
              "  <thead>\n",
              "    <tr style=\"text-align: right;\">\n",
              "      <th></th>\n",
              "      <th>mean</th>\n",
              "      <th>count</th>\n",
              "      <th>target</th>\n",
              "    </tr>\n",
              "    <tr>\n",
              "      <th>ps_car_11_cat</th>\n",
              "      <th></th>\n",
              "      <th></th>\n",
              "      <th></th>\n",
              "    </tr>\n",
              "  </thead>\n",
              "  <tbody>\n",
              "    <tr>\n",
              "      <th>1</th>\n",
              "      <td>0.108260</td>\n",
              "      <td>1247</td>\n",
              "      <td>0.182598</td>\n",
              "    </tr>\n",
              "    <tr>\n",
              "      <th>2</th>\n",
              "      <td>0.103082</td>\n",
              "      <td>941</td>\n",
              "      <td>0.130818</td>\n",
              "    </tr>\n",
              "    <tr>\n",
              "      <th>3</th>\n",
              "      <td>0.139078</td>\n",
              "      <td>1172</td>\n",
              "      <td>0.490785</td>\n",
              "    </tr>\n",
              "    <tr>\n",
              "      <th>4</th>\n",
              "      <td>0.164966</td>\n",
              "      <td>588</td>\n",
              "      <td>0.749660</td>\n",
              "    </tr>\n",
              "    <tr>\n",
              "      <th>5</th>\n",
              "      <td>0.113000</td>\n",
              "      <td>4646</td>\n",
              "      <td>0.230004</td>\n",
              "    </tr>\n",
              "    <tr>\n",
              "      <th>...</th>\n",
              "      <td>...</td>\n",
              "      <td>...</td>\n",
              "      <td>...</td>\n",
              "    </tr>\n",
              "    <tr>\n",
              "      <th>100</th>\n",
              "      <td>0.138773</td>\n",
              "      <td>1679</td>\n",
              "      <td>0.487731</td>\n",
              "    </tr>\n",
              "    <tr>\n",
              "      <th>101</th>\n",
              "      <td>0.108035</td>\n",
              "      <td>2601</td>\n",
              "      <td>0.180354</td>\n",
              "    </tr>\n",
              "    <tr>\n",
              "      <th>102</th>\n",
              "      <td>0.097127</td>\n",
              "      <td>731</td>\n",
              "      <td>0.071272</td>\n",
              "    </tr>\n",
              "    <tr>\n",
              "      <th>103</th>\n",
              "      <td>0.074703</td>\n",
              "      <td>8661</td>\n",
              "      <td>-0.152973</td>\n",
              "    </tr>\n",
              "    <tr>\n",
              "      <th>104</th>\n",
              "      <td>0.121199</td>\n",
              "      <td>31601</td>\n",
              "      <td>0.311987</td>\n",
              "    </tr>\n",
              "  </tbody>\n",
              "</table>\n",
              "<p>104 rows × 3 columns</p>\n",
              "</div>"
            ],
            "text/plain": [
              "                   mean  count    target\n",
              "ps_car_11_cat                           \n",
              "1              0.108260   1247  0.182598\n",
              "2              0.103082    941  0.130818\n",
              "3              0.139078   1172  0.490785\n",
              "4              0.164966    588  0.749660\n",
              "5              0.113000   4646  0.230004\n",
              "...                 ...    ...       ...\n",
              "100            0.138773   1679  0.487731\n",
              "101            0.108035   2601  0.180354\n",
              "102            0.097127    731  0.071272\n",
              "103            0.074703   8661 -0.152973\n",
              "104            0.121199  31601  0.311987\n",
              "\n",
              "[104 rows x 3 columns]"
            ]
          },
          "metadata": {},
          "execution_count": 122
        }
      ]
    },
    {
      "cell_type": "markdown",
      "metadata": {
        "id": "Ki3Nlp30BaVu"
      },
      "source": [
        "smoothing 여부에 따라 큰 차이는 없음"
      ]
    },
    {
      "cell_type": "code",
      "metadata": {
        "id": "1XTpt-FaBgtv"
      },
      "source": [
        "average.drop(['mean','count'],axis=1,inplace = True)"
      ],
      "execution_count": null,
      "outputs": []
    },
    {
      "cell_type": "code",
      "metadata": {
        "colab": {
          "base_uri": "https://localhost:8080/",
          "height": 445
        },
        "id": "iGucsBa8CpGq",
        "outputId": "d7cd2157-f27a-48ca-9db7-918a02474147"
      },
      "source": [
        "average"
      ],
      "execution_count": null,
      "outputs": [
        {
          "output_type": "execute_result",
          "data": {
            "text/html": [
              "<div>\n",
              "<style scoped>\n",
              "    .dataframe tbody tr th:only-of-type {\n",
              "        vertical-align: middle;\n",
              "    }\n",
              "\n",
              "    .dataframe tbody tr th {\n",
              "        vertical-align: top;\n",
              "    }\n",
              "\n",
              "    .dataframe thead th {\n",
              "        text-align: right;\n",
              "    }\n",
              "</style>\n",
              "<table border=\"1\" class=\"dataframe\">\n",
              "  <thead>\n",
              "    <tr style=\"text-align: right;\">\n",
              "      <th></th>\n",
              "      <th>target</th>\n",
              "    </tr>\n",
              "    <tr>\n",
              "      <th>ps_car_11_cat</th>\n",
              "      <th></th>\n",
              "    </tr>\n",
              "  </thead>\n",
              "  <tbody>\n",
              "    <tr>\n",
              "      <th>1</th>\n",
              "      <td>0.182598</td>\n",
              "    </tr>\n",
              "    <tr>\n",
              "      <th>2</th>\n",
              "      <td>0.130818</td>\n",
              "    </tr>\n",
              "    <tr>\n",
              "      <th>3</th>\n",
              "      <td>0.490785</td>\n",
              "    </tr>\n",
              "    <tr>\n",
              "      <th>4</th>\n",
              "      <td>0.749660</td>\n",
              "    </tr>\n",
              "    <tr>\n",
              "      <th>5</th>\n",
              "      <td>0.230004</td>\n",
              "    </tr>\n",
              "    <tr>\n",
              "      <th>...</th>\n",
              "      <td>...</td>\n",
              "    </tr>\n",
              "    <tr>\n",
              "      <th>100</th>\n",
              "      <td>0.487731</td>\n",
              "    </tr>\n",
              "    <tr>\n",
              "      <th>101</th>\n",
              "      <td>0.180354</td>\n",
              "    </tr>\n",
              "    <tr>\n",
              "      <th>102</th>\n",
              "      <td>0.071272</td>\n",
              "    </tr>\n",
              "    <tr>\n",
              "      <th>103</th>\n",
              "      <td>-0.152973</td>\n",
              "    </tr>\n",
              "    <tr>\n",
              "      <th>104</th>\n",
              "      <td>0.311987</td>\n",
              "    </tr>\n",
              "  </tbody>\n",
              "</table>\n",
              "<p>104 rows × 1 columns</p>\n",
              "</div>"
            ],
            "text/plain": [
              "                 target\n",
              "ps_car_11_cat          \n",
              "1              0.182598\n",
              "2              0.130818\n",
              "3              0.490785\n",
              "4              0.749660\n",
              "5              0.230004\n",
              "...                 ...\n",
              "100            0.487731\n",
              "101            0.180354\n",
              "102            0.071272\n",
              "103           -0.152973\n",
              "104            0.311987\n",
              "\n",
              "[104 rows x 1 columns]"
            ]
          },
          "metadata": {},
          "execution_count": 124
        }
      ]
    },
    {
      "cell_type": "code",
      "metadata": {
        "id": "dEEFQhM3Bo6r"
      },
      "source": [
        "ft_trn_series = pd.merge(trn_series.to_frame(trn_series.name),\n",
        "         average.reset_index().rename(columns = {'index' : target.name,\n",
        "                                                 target.name : 'average'}),\n",
        "         on = trn_series.name, how='left')['average'].rename(trn_series.name + '_mean').fillna(prior)\n",
        "# how='left' 중요!! left에 있는 모든 샘플을 살리면서 붙일 수 있음"
      ],
      "execution_count": null,
      "outputs": []
    },
    {
      "cell_type": "code",
      "metadata": {
        "id": "kgMN8PePCE4t"
      },
      "source": [
        "ft_trn_series.index = trn_series.index"
      ],
      "execution_count": null,
      "outputs": []
    },
    {
      "cell_type": "code",
      "metadata": {
        "id": "IBY5ELZUGt1Y"
      },
      "source": [
        " # test 셋에서도 똑같이 수행해줌\n",
        " ft_tst_series = pd.merge(\n",
        "        tst_series.to_frame(tst_series.name),\n",
        "        average.reset_index().rename(columns={'index': target.name, target.name: 'average'}),\n",
        "        on=tst_series.name,\n",
        "        how='left')['average'].rename(trn_series.name + '_mean').fillna(prior)"
      ],
      "execution_count": null,
      "outputs": []
    },
    {
      "cell_type": "code",
      "metadata": {
        "id": "5-qTWE10GZ1s"
      },
      "source": [
        "ft_tst_series = tst_series.index"
      ],
      "execution_count": null,
      "outputs": []
    },
    {
      "cell_type": "code",
      "metadata": {
        "colab": {
          "base_uri": "https://localhost:8080/"
        },
        "id": "WDyLui93HNC1",
        "outputId": "1fa9c5bf-77d7-4eb5-b891-7782a23e2fac"
      },
      "source": [
        "0.01 * np.random.randn(ft_trn_series.shape[0]) # 노이즈 설정 -> 너무 discrete 하지 않게 하려고 "
      ],
      "execution_count": null,
      "outputs": [
        {
          "output_type": "execute_result",
          "data": {
            "text/plain": [
              "array([-0.00328179,  0.00080372, -0.00380016, ...,  0.00248539,\n",
              "        0.00169355, -0.0244045 ])"
            ]
          },
          "metadata": {},
          "execution_count": 129
        }
      ]
    },
    {
      "cell_type": "code",
      "metadata": {
        "id": "PyzrnpRvdi2s"
      },
      "source": [
        "def add_noise(series, noise_level):\n",
        "    return series * (1 + noise_level * np.random.randn(len(series)))\n",
        "\n",
        "def target_encode(trn_series=None, \n",
        "                  tst_series=None, \n",
        "                  target=None, \n",
        "                  min_samples_leaf=1, \n",
        "                  smoothing=1,\n",
        "                  noise_level=0):\n",
        "\n",
        "    assert len(trn_series) == len(target) #assert -> True면 통과, False면 에러\n",
        "    assert trn_series.name == tst_series.name\n",
        "\n",
        "    temp = pd.concat([trn_series, target], axis=1)\n",
        "    averages = temp.groupby(by=trn_series.name)[target.name].agg([\"mean\", \"count\"])\n",
        "    smoothing = 1 / (1 + np.exp(-(averages[\"count\"] - min_samples_leaf) / smoothing))\n",
        "    prior = target.mean()\n",
        "    averages[target.name] = prior * (1 - smoothing) + averages[\"mean\"] * smoothing\n",
        "    averages.drop([\"mean\", \"count\"], axis=1, inplace=True)\n",
        "\n",
        "    ft_trn_series = pd.merge(\n",
        "        trn_series.to_frame(trn_series.name),\n",
        "        averages.reset_index().rename(columns={'index': target.name, target.name: 'average'}),\n",
        "        on=trn_series.name,\n",
        "        how='left')['average'].rename(trn_series.name + '_mean').fillna(prior)\n",
        "    # pd.merge - index를 보존해주지 않음\n",
        "    ft_trn_series.index = trn_series.index \n",
        "   \n",
        "    ft_tst_series = pd.merge(\n",
        "        tst_series.to_frame(tst_series.name),\n",
        "        averages.reset_index().rename(columns={'index': target.name, target.name: 'average'}),\n",
        "        on=tst_series.name,\n",
        "        how='left')['average'].rename(trn_series.name + '_mean').fillna(prior)\n",
        "    ft_tst_series.index = tst_series.index\n",
        "    \n",
        "    return add_noise(ft_trn_series, noise_level), add_noise(ft_tst_series, noise_level)"
      ],
      "execution_count": null,
      "outputs": []
    },
    {
      "cell_type": "code",
      "metadata": {
        "id": "3EAr-RGSdkOm"
      },
      "source": [
        "train_encoded, test_encoded = target_encode(train[\"ps_car_11_cat\"], \n",
        "                             test[\"ps_car_11_cat\"], \n",
        "                             target=train.target, \n",
        "                             min_samples_leaf=100,\n",
        "                             smoothing=10,\n",
        "                             noise_level=0.01)\n",
        "    \n",
        "train['ps_car_11_cat_te'] = train_encoded\n",
        "train.drop('ps_car_11_cat', axis=1, inplace=True)\n",
        "meta.loc['ps_car_11_cat','keep'] = False  # 메타데이터 업데이트\n",
        "test['ps_car_11_cat_te'] = test_encoded\n",
        "test.drop('ps_car_11_cat', axis=1, inplace=True)"
      ],
      "execution_count": null,
      "outputs": []
    },
    {
      "cell_type": "code",
      "metadata": {
        "colab": {
          "base_uri": "https://localhost:8080/"
        },
        "id": "8eM65Y-sI8iR",
        "outputId": "23c89fe0-5584-4ebc-fdab-99800bc80421"
      },
      "source": [
        "train_encoded"
      ],
      "execution_count": null,
      "outputs": [
        {
          "output_type": "execute_result",
          "data": {
            "text/plain": [
              "0         0.094783\n",
              "1         0.122180\n",
              "2         0.096908\n",
              "3         0.084972\n",
              "4         0.107709\n",
              "            ...   \n",
              "216935    0.121403\n",
              "216936    0.113524\n",
              "216937    0.121853\n",
              "216938    0.122132\n",
              "216939    0.067492\n",
              "Name: ps_car_11_cat_mean, Length: 216940, dtype: float64"
            ]
          },
          "metadata": {},
          "execution_count": 132
        }
      ]
    },
    {
      "cell_type": "code",
      "metadata": {
        "colab": {
          "base_uri": "https://localhost:8080/",
          "height": 1000
        },
        "id": "vZzGet9wrcjS",
        "outputId": "63e7bc21-9a25-44a8-fb3b-483aef21bf6b"
      },
      "source": [
        "v= meta[(meta.level == 'nominal')&(meta.keep)].index\n",
        "\n",
        "for f in v:\n",
        "  plt.figure()\n",
        "  fig, ax = plt.subplots(figsize=(20,10))\n",
        "\n",
        "  cat_perc = train[[f,'target']].groupby([f],as_index=False).mean()\n",
        "  cat_perc.sort_values(by='target',ascending=False,inplace = True)\n",
        "\n",
        "  sns.barplot(ax=ax, x=f, y='target', data=cat_perc, order=cat_perc[f])\n",
        "  plt.ylabel('% target', fontsize=18)\n",
        "  plt.xlabel(f, fontsize=18)\n",
        "  plt.tick_params(axis='both', which='major', labelsize=18)\n",
        "  plt.show();"
      ],
      "execution_count": null,
      "outputs": [
        {
          "output_type": "display_data",
          "data": {
            "text/plain": [
              "<Figure size 432x288 with 0 Axes>"
            ]
          },
          "metadata": {}
        },
        {
          "output_type": "display_data",
          "data": {
            "image/png": "[encoded data removed]",
            "text/plain": [
              "<Figure size 1440x720 with 1 Axes>"
            ]
          },
          "metadata": {
            "needs_background": "light"
          }
        },
        {
          "output_type": "display_data",
          "data": {
            "text/plain": [
              "<Figure size 432x288 with 0 Axes>"
            ]
          },
          "metadata": {}
        },
        {
          "output_type": "display_data",
          "data": {
            "image/png": "[encoded data removed]",
            "text/plain": [
              "<Figure size 1440x720 with 1 Axes>"
            ]
          },
          "metadata": {
            "needs_background": "light"
          }
        },
        {
          "output_type": "display_data",
          "data": {
            "text/plain": [
              "<Figure size 432x288 with 0 Axes>"
            ]
          },
          "metadata": {}
        },
        {
          "output_type": "display_data",
          "data": {
            "image/png": "[encoded data removed]",
            "text/plain": [
              "<Figure size 1440x720 with 1 Axes>"
            ]
          },
          "metadata": {
            "needs_background": "light"
          }
        },
        {
          "output_type": "display_data",
          "data": {
            "text/plain": [
              "<Figure size 432x288 with 0 Axes>"
            ]
          },
          "metadata": {}
        },
        {
          "output_type": "display_data",
          "data": {
            "image/png": "[encoded data removed]",
            "text/plain": [
              "<Figure size 1440x720 with 1 Axes>"
            ]
          },
          "metadata": {
            "needs_background": "light"
          }
        },
        {
          "output_type": "display_data",
          "data": {
            "text/plain": [
              "<Figure size 432x288 with 0 Axes>"
            ]
          },
          "metadata": {}
        },
        {
          "output_type": "display_data",
          "data": {
            "image/png": "[encoded data removed]",
            "text/plain": [
              "<Figure size 1440x720 with 1 Axes>"
            ]
          },
          "metadata": {
            "needs_background": "light"
          }
        },
        {
          "output_type": "display_data",
          "data": {
            "text/plain": [
              "<Figure size 432x288 with 0 Axes>"
            ]
          },
          "metadata": {}
        },
        {
          "output_type": "display_data",
          "data": {
            "image/png": "[encoded data removed]",
            "text/plain": [
              "<Figure size 1440x720 with 1 Axes>"
            ]
          },
          "metadata": {
            "needs_background": "light"
          }
        },
        {
          "output_type": "display_data",
          "data": {
            "text/plain": [
              "<Figure size 432x288 with 0 Axes>"
            ]
          },
          "metadata": {}
        },
        {
          "output_type": "display_data",
          "data": {
            "image/png": "[encoded data removed]",
            "text/plain": [
              "<Figure size 1440x720 with 1 Axes>"
            ]
          },
          "metadata": {
            "needs_background": "light"
          }
        },
        {
          "output_type": "display_data",
          "data": {
            "text/plain": [
              "<Figure size 432x288 with 0 Axes>"
            ]
          },
          "metadata": {}
        },
        {
          "output_type": "display_data",
          "data": {
            "image/png": "[encoded data removed]",
            "text/plain": [
              "<Figure size 1440x720 with 1 Axes>"
            ]
          },
          "metadata": {
            "needs_background": "light"
          }
        },
        {
          "output_type": "display_data",
          "data": {
            "text/plain": [
              "<Figure size 432x288 with 0 Axes>"
            ]
          },
          "metadata": {}
        },
        {
          "output_type": "display_data",
          "data": {
            "image/png": "[encoded data removed]",
            "text/plain": [
              "<Figure size 1440x720 with 1 Axes>"
            ]
          },
          "metadata": {
            "needs_background": "light"
          }
        },
        {
          "output_type": "display_data",
          "data": {
            "text/plain": [
              "<Figure size 432x288 with 0 Axes>"
            ]
          },
          "metadata": {}
        },
        {
          "output_type": "display_data",
          "data": {
            "image/png": "[encoded data removed]",
            "text/plain": [
              "<Figure size 1440x720 with 1 Axes>"
            ]
          },
          "metadata": {
            "needs_background": "light"
          }
        },
        {
          "output_type": "display_data",
          "data": {
            "text/plain": [
              "<Figure size 432x288 with 0 Axes>"
            ]
          },
          "metadata": {}
        },
        {
          "output_type": "display_data",
          "data": {
            "image/png": "[encoded data removed]",
            "text/plain": [
              "<Figure size 1440x720 with 1 Axes>"
            ]
          },
          "metadata": {
            "needs_background": "light"
          }
        }
      ]
    },
    {
      "cell_type": "markdown",
      "metadata": {
        "id": "IO23ORJAvTe9"
      },
      "source": [
        "train 데이터에서는 결측치 처리를 해줬지만, meta data에서 각 컬럼에 대해 범주별로 target값을 비교해 보면 -1이 가장 많은 컬럼들이 많이보임. \n",
        "\n",
        "따라서 결측값을 가진 고객 -> 보험을 요청할 확률이 높은 것은 사실이 유의미한 것으로 판단하여 meta data를 수정하지 않음."
      ]
    },
    {
      "cell_type": "markdown",
      "metadata": {
        "id": "XtN-lMg5ysqj"
      },
      "source": [
        "## 연속형 & 순서형 변수들에 대해 상관계수 그래프 그리기"
      ]
    },
    {
      "cell_type": "code",
      "metadata": {
        "colab": {
          "base_uri": "https://localhost:8080/",
          "height": 538
        },
        "id": "A-ZY3sJcttm6",
        "outputId": "43e87125-70f1-4a49-8304-8005074343d2"
      },
      "source": [
        "def corr_heatmap(v) :\n",
        "  correlations = train[v].corr()\n",
        "\n",
        "  cmap = sns.diverging_palette(220,10,as_cmap=True)\n",
        "\n",
        "  fig,ax = plt.subplots(figsize=(10,10))\n",
        "  sns.heatmap(correlations, cmap=cmap, vmax = 1.0, center=0, fmt= '.2f',\n",
        "              square = True,linewidths = .5, annot = True, cbar_kws={'shrink' : .75})\n",
        "  plt.show() ;\n",
        "\n",
        "v = meta[(meta.level== 'interval')&(meta.keep)].index\n",
        "corr_heatmap(v)"
      ],
      "execution_count": null,
      "outputs": [
        {
          "output_type": "display_data",
          "data": {
            "image/png": "[encoded data removed]",
            "text/plain": [
              "<Figure size 720x720 with 2 Axes>"
            ]
          },
          "metadata": {
            "needs_background": "light"
          }
        }
      ]
    },
    {
      "cell_type": "markdown",
      "metadata": {
        "id": "TDfbOsvgzgcq"
      },
      "source": [
        "\n",
        "\n",
        "*   ps_reg_02 and ps_reg_03 (0.7)\n",
        "*   ps_car_12 and ps_car13 (0.67)\n",
        "*   ps_car_12 and ps_car14 (0.58)\n",
        "*   ps_car_13 and ps_car15 (0.67)\n",
        "\n"
      ]
    },
    {
      "cell_type": "code",
      "metadata": {
        "id": "7pgVWyFeuIWF"
      },
      "source": [
        "s = train.sample(frac=0.1)"
      ],
      "execution_count": null,
      "outputs": []
    },
    {
      "cell_type": "code",
      "metadata": {
        "id": "SbMhRweOzzEK",
        "colab": {
          "base_uri": "https://localhost:8080/",
          "height": 384
        },
        "outputId": "b0a86e5d-f3ae-4111-b6ce-ed4b39322f3c"
      },
      "source": [
        "sns.lmplot(x='ps_reg_02', y='ps_reg_03', data=s, hue= 'target',\n",
        "           palette = 'Set1', scatter_kws={'alpha':0.3}) \n",
        "# scatter_kws : 그래프의 여러 옵션 딕셔너리 형태로 지정 alpha로 진함 정도, size로 기호의 크기 등 \n",
        "plt.show()"
      ],
      "execution_count": null,
      "outputs": [
        {
          "output_type": "display_data",
          "data": {
            "image/png": "[encoded data removed]",
            "text/plain": [
              "<Figure size 402.375x360 with 1 Axes>"
            ]
          },
          "metadata": {
            "needs_background": "light"
          }
        }
      ]
    },
    {
      "cell_type": "code",
      "metadata": {
        "colab": {
          "base_uri": "https://localhost:8080/",
          "height": 384
        },
        "id": "7MOMGOCU_3CF",
        "outputId": "fc106af9-f20d-49e4-9cde-121ad34b1b37"
      },
      "source": [
        "sns.lmplot(x='ps_car_12', y='ps_car_13', data=s, hue='target', palette='Set1', scatter_kws={'alpha':0.3})\n",
        "plt.show()"
      ],
      "execution_count": null,
      "outputs": [
        {
          "output_type": "display_data",
          "data": {
            "image/png": "[encoded data removed]",
            "text/plain": [
              "<Figure size 402.375x360 with 1 Axes>"
            ]
          },
          "metadata": {
            "needs_background": "light"
          }
        }
      ]
    },
    {
      "cell_type": "code",
      "metadata": {
        "colab": {
          "base_uri": "https://localhost:8080/",
          "height": 384
        },
        "id": "s4o8Bhj_BfRS",
        "outputId": "7825fe42-f83e-4708-e97d-87ae15231e19"
      },
      "source": [
        "sns.lmplot(x='ps_car_12', y='ps_car_14', data=s, hue='target', palette='Set1', scatter_kws={'alpha':0.3})\n",
        "plt.show()"
      ],
      "execution_count": null,
      "outputs": [
        {
          "output_type": "display_data",
          "data": {
            "image/png": "[encoded data removed]",
            "text/plain": [
              "<Figure size 402.375x360 with 1 Axes>"
            ]
          },
          "metadata": {
            "needs_background": "light"
          }
        }
      ]
    },
    {
      "cell_type": "code",
      "metadata": {
        "colab": {
          "base_uri": "https://localhost:8080/",
          "height": 384
        },
        "id": "Z-3X4naOVVW5",
        "outputId": "d4bc6ed3-1039-4a73-8788-b96b0f591385"
      },
      "source": [
        "sns.lmplot(x='ps_car_15', y='ps_car_13', data=s, hue='target', palette='Set1', scatter_kws={'alpha':0.3})\n",
        "plt.show()"
      ],
      "execution_count": null,
      "outputs": [
        {
          "output_type": "display_data",
          "data": {
            "image/png": "[encoded data removed]",
            "text/plain": [
              "<Figure size 402.375x360 with 1 Axes>"
            ]
          },
          "metadata": {
            "needs_background": "light"
          }
        }
      ]
    },
    {
      "cell_type": "code",
      "metadata": {
        "colab": {
          "base_uri": "https://localhost:8080/",
          "height": 539
        },
        "id": "PXJL9GUHVX_g",
        "outputId": "ec836a04-9d9a-47af-f325-e3a42158603b"
      },
      "source": [
        "v = meta[(meta.level=='ordinal')&(meta.keep)].index\n",
        "corr_heatmap(v)"
      ],
      "execution_count": null,
      "outputs": [
        {
          "output_type": "display_data",
          "data": {
            "image/png": "[encoded data removed]",
            "text/plain": [
              "<Figure size 720x720 with 2 Axes>"
            ]
          },
          "metadata": {
            "needs_background": "light"
          }
        }
      ]
    },
    {
      "cell_type": "markdown",
      "metadata": {
        "id": "6-ry_fMJZAJv"
      },
      "source": [
        "순서형 변수들 간에는 눈에 띄는 상관계수가 없음."
      ]
    },
    {
      "cell_type": "markdown",
      "metadata": {
        "id": "cYZPTxiL3gxc"
      },
      "source": [
        "## Feature Engineering\n",
        "\n",
        "변수들의 특징에 따라 변수를 새롭게 추가해주는 과정"
      ]
    },
    {
      "cell_type": "markdown",
      "metadata": {
        "id": "PpMTw2n23vJp"
      },
      "source": [
        "범주형 변수들에 대하여 더미 변수 생성\n"
      ]
    },
    {
      "cell_type": "code",
      "metadata": {
        "colab": {
          "base_uri": "https://localhost:8080/"
        },
        "id": "PM5VSEvoY_rt",
        "outputId": "1fa9724b-5d06-43ba-d296-1183fe1a1b8c"
      },
      "source": [
        "v = meta[(meta.level == 'nominal') & (meta.keep)].index\n",
        "print('Before dummification we have {} varibles in train'.format(train.shape[1]))\n",
        "train = pd.get_dummies(train,columns=v, drop_first=True)\n",
        "print('After dummification we have {} variables in train'.format(train.shape[1]))"
      ],
      "execution_count": null,
      "outputs": [
        {
          "output_type": "stream",
          "name": "stdout",
          "text": [
            "Before dummification we have 57 varibles in train\n",
            "After dummification we have 109 variables in train\n"
          ]
        }
      ]
    },
    {
      "cell_type": "markdown",
      "metadata": {
        "id": "3nHNaCuaVYZj"
      },
      "source": [
        "교호 작용 변수들을 생성하는 변수 생성\n",
        "ex) (x1, x2, x3) to (1, x1, x2, x3, x1*x2, x1*x3, x2*x3, x1*x2x3)"
      ]
    },
    {
      "cell_type": "code",
      "metadata": {
        "colab": {
          "base_uri": "https://localhost:8080/"
        },
        "id": "VOaRF1LTaPwF",
        "outputId": "08649b56-14e4-485d-8e43-8b96d736f21c"
      },
      "source": [
        "v= meta[(meta.level=='interval')&(meta.keep)].index\n",
        "poly = PolynomialFeatures(degree=2, interaction_only=False, include_bias=False) \n",
        "# interaction_only : 교호작용 항만 출력, include_bias : 상수항 생성 여부\n",
        "interactions = pd.DataFrame(data=poly.fit_transform(train[v]),columns=poly.get_feature_names(v))\n",
        "interactions.drop(v,axis=1,inplace=True)\n",
        "print('Before creating interactions we have {} varibles in train'.format(train.shape[1]))\n",
        "train=pd.concat([train,interactions],axis=1)\n",
        "print('After creating interactions we have {} variables in train'.format(train.shape[1]))"
      ],
      "execution_count": null,
      "outputs": [
        {
          "output_type": "stream",
          "name": "stdout",
          "text": [
            "Before creating interactions we have 109 varibles in train\n",
            "After creating interactions we have 164 variables in train\n"
          ]
        }
      ]
    },
    {
      "cell_type": "code",
      "metadata": {
        "colab": {
          "base_uri": "https://localhost:8080/"
        },
        "id": "GYTs59cLf3jm",
        "outputId": "4e716b02-9597-4722-8994-3d835c2ce794"
      },
      "source": [
        "train.columns"
      ],
      "execution_count": null,
      "outputs": [
        {
          "output_type": "execute_result",
          "data": {
            "text/plain": [
              "Index(['id', 'target', 'ps_ind_01', 'ps_ind_03', 'ps_ind_06_bin',\n",
              "       'ps_ind_07_bin', 'ps_ind_08_bin', 'ps_ind_09_bin', 'ps_ind_10_bin',\n",
              "       'ps_ind_11_bin',\n",
              "       ...\n",
              "       'ps_car_15^2', 'ps_car_15 ps_calc_01', 'ps_car_15 ps_calc_02',\n",
              "       'ps_car_15 ps_calc_03', 'ps_calc_01^2', 'ps_calc_01 ps_calc_02',\n",
              "       'ps_calc_01 ps_calc_03', 'ps_calc_02^2', 'ps_calc_02 ps_calc_03',\n",
              "       'ps_calc_03^2'],\n",
              "      dtype='object', length=164)"
            ]
          },
          "metadata": {},
          "execution_count": 143
        }
      ]
    },
    {
      "cell_type": "markdown",
      "metadata": {
        "id": "DoeDedYCWr8M"
      },
      "source": [
        "## Feature selection"
      ]
    },
    {
      "cell_type": "markdown",
      "metadata": {
        "id": "Li1KJTlgW807"
      },
      "source": [
        " \n",
        "\n",
        "*   분산이 작거나 0인 경우 - 해당 변수를 제거하는 것이 좋음 (값의 변화가 다양하지 않은 경우 예측에 도움이 되지 않음)\n",
        "*   VarianceThreshold 함수를 통해 variance가 낮은 값을 제거해 줄 수 있음.\n",
        "*   SelectFromModel을 사용하여 사용할 변수를 선택할수도 있음. \n",
        "\n"
      ]
    },
    {
      "cell_type": "code",
      "metadata": {
        "colab": {
          "base_uri": "https://localhost:8080/"
        },
        "id": "S5tROA56UEv8",
        "outputId": "70c3928a-a97e-4db8-fdcf-8d037b61550f"
      },
      "source": [
        "selector = VarianceThreshold(threshold=.01)\n",
        "selector.fit(train.drop(['id','target'],axis=1))\n",
        "\n",
        "f = np.vectorize(lambda x : not x)\n",
        "v = train.drop(['id','target'],axis=1).columns[f(selector.get_support())] \n",
        "# selector.get_support : threshold 통과 - True, 불통 - False\n",
        "# 불통인 애들만 뽑아주려고 f 함수를 통해 bool값을 뒤집어줌\n",
        "print('{} variables have too low variance.'.format(len(v)))\n",
        "print('These variables are {}'.format(list(v)))"
      ],
      "execution_count": null,
      "outputs": [
        {
          "output_type": "stream",
          "name": "stdout",
          "text": [
            "28 variables have too low variance.\n",
            "These variables are ['ps_ind_10_bin', 'ps_ind_11_bin', 'ps_ind_12_bin', 'ps_ind_13_bin', 'ps_car_12', 'ps_car_14', 'ps_car_11_cat_te', 'ps_ind_05_cat_2', 'ps_ind_05_cat_5', 'ps_car_01_cat_1', 'ps_car_01_cat_2', 'ps_car_04_cat_3', 'ps_car_04_cat_4', 'ps_car_04_cat_5', 'ps_car_04_cat_6', 'ps_car_04_cat_7', 'ps_car_06_cat_2', 'ps_car_06_cat_5', 'ps_car_06_cat_8', 'ps_car_06_cat_12', 'ps_car_06_cat_16', 'ps_car_06_cat_17', 'ps_car_09_cat_4', 'ps_car_10_cat_1', 'ps_car_10_cat_2', 'ps_car_12^2', 'ps_car_12 ps_car_14', 'ps_car_14^2']\n"
          ]
        }
      ]
    },
    {
      "cell_type": "markdown",
      "metadata": {
        "id": "GvCR0uLya2b2"
      },
      "source": [
        "Select From Model방식 적용"
      ]
    },
    {
      "cell_type": "code",
      "metadata": {
        "colab": {
          "base_uri": "https://localhost:8080/"
        },
        "id": "O-obUzpoYFIk",
        "outputId": "39a9c238-7e0c-4437-c5a6-727fa08fc752"
      },
      "source": [
        "X_train = train.drop(['id','target'],axis=1)\n",
        "y_train = train['target']\n",
        "\n",
        "feat_labels = X_train.columns\n",
        "\n",
        "rf = RandomForestClassifier(n_estimators=1000, random_state=0, n_jobs=-1)\n",
        "rf.fit(X_train,y_train)\n",
        "importances = rf.feature_importances_\n",
        "\n",
        "indices = np.argsort(rf.feature_importances_)[::-1] # 변수 중요도 내림차순 정렬\n",
        "\n",
        "for f in range(X_train.shape[1]) :\n",
        "  print(\"%2d) %-*s %f\" % (f+1, 30, feat_labels[indices[f]],importances[indices[f]]))"
      ],
      "execution_count": null,
      "outputs": [
        {
          "output_type": "stream",
          "name": "stdout",
          "text": [
            " 1) ps_car_11_cat_te               0.021239\n",
            " 2) ps_car_13                      0.017366\n",
            " 3) ps_car_12 ps_car_13            0.017271\n",
            " 4) ps_car_13^2                    0.017270\n",
            " 5) ps_car_13 ps_car_14            0.017151\n",
            " 6) ps_reg_03 ps_car_13            0.017096\n",
            " 7) ps_car_13 ps_car_15            0.016778\n",
            " 8) ps_reg_01 ps_car_13            0.016741\n",
            " 9) ps_reg_03 ps_car_14            0.016252\n",
            "10) ps_reg_03 ps_car_12            0.015552\n",
            "11) ps_reg_03 ps_car_15            0.015142\n",
            "12) ps_car_14 ps_car_15            0.015025\n",
            "13) ps_car_13 ps_calc_02           0.014723\n",
            "14) ps_car_13 ps_calc_03           0.014688\n",
            "15) ps_reg_01 ps_reg_03            0.014683\n",
            "16) ps_car_13 ps_calc_01           0.014667\n",
            "17) ps_reg_02 ps_car_13            0.014654\n",
            "18) ps_reg_01 ps_car_14            0.014364\n",
            "19) ps_reg_03^2                    0.014234\n",
            "20) ps_reg_03                      0.014200\n",
            "21) ps_reg_03 ps_calc_03           0.013797\n",
            "22) ps_reg_03 ps_calc_02           0.013783\n",
            "23) ps_reg_03 ps_calc_01           0.013758\n",
            "24) ps_car_14 ps_calc_02           0.013626\n",
            "25) ps_calc_10                     0.013590\n",
            "26) ps_car_14 ps_calc_01           0.013504\n",
            "27) ps_car_14 ps_calc_03           0.013479\n",
            "28) ps_calc_14                     0.013364\n",
            "29) ps_ind_03                      0.012952\n",
            "30) ps_car_12 ps_car_14            0.012944\n",
            "31) ps_car_14                      0.012749\n",
            "32) ps_car_14^2                    0.012741\n",
            "33) ps_reg_02 ps_car_14            0.012727\n",
            "34) ps_calc_11                     0.012629\n",
            "35) ps_reg_02 ps_reg_03            0.012537\n",
            "36) ps_ind_15                      0.012155\n",
            "37) ps_car_12 ps_car_15            0.010939\n",
            "38) ps_car_15 ps_calc_03           0.010924\n",
            "39) ps_car_15 ps_calc_02           0.010907\n",
            "40) ps_car_15 ps_calc_01           0.010861\n",
            "41) ps_calc_13                     0.010516\n",
            "42) ps_car_12 ps_calc_01           0.010505\n",
            "43) ps_car_12 ps_calc_03           0.010333\n",
            "44) ps_car_12 ps_calc_02           0.010254\n",
            "45) ps_reg_02 ps_car_15            0.010236\n",
            "46) ps_reg_01 ps_car_15            0.010196\n",
            "47) ps_calc_02 ps_calc_03          0.010041\n",
            "48) ps_calc_01 ps_calc_02          0.010008\n",
            "49) ps_calc_01 ps_calc_03          0.009963\n",
            "50) ps_calc_07                     0.009807\n",
            "51) ps_calc_08                     0.009797\n",
            "52) ps_reg_01 ps_car_12            0.009457\n",
            "53) ps_reg_02 ps_car_12            0.009312\n",
            "54) ps_reg_02 ps_calc_01           0.009307\n",
            "55) ps_reg_02 ps_calc_02           0.009185\n",
            "56) ps_reg_02 ps_calc_03           0.009181\n",
            "57) ps_calc_06                     0.009074\n",
            "58) ps_reg_01 ps_calc_03           0.009068\n",
            "59) ps_reg_01 ps_calc_02           0.009056\n",
            "60) ps_reg_01 ps_calc_01           0.009050\n",
            "61) ps_calc_09                     0.008819\n",
            "62) ps_ind_01                      0.008576\n",
            "63) ps_calc_05                     0.008298\n",
            "64) ps_calc_04                     0.008179\n",
            "65) ps_reg_01 ps_reg_02            0.008033\n",
            "66) ps_calc_12                     0.008001\n",
            "67) ps_car_15^2                    0.006178\n",
            "68) ps_car_15                      0.006163\n",
            "69) ps_calc_03                     0.005998\n",
            "70) ps_calc_03^2                   0.005984\n",
            "71) ps_calc_01                     0.005955\n",
            "72) ps_calc_02                     0.005954\n",
            "73) ps_calc_01^2                   0.005951\n",
            "74) ps_calc_02^2                   0.005913\n",
            "75) ps_car_12                      0.005335\n",
            "76) ps_car_12^2                    0.005314\n",
            "77) ps_reg_02^2                    0.004976\n",
            "78) ps_reg_02                      0.004975\n",
            "79) ps_reg_01                      0.004154\n",
            "80) ps_reg_01^2                    0.004143\n",
            "81) ps_car_11                      0.003808\n",
            "82) ps_ind_05_cat_0                0.003545\n",
            "83) ps_ind_17_bin                  0.002859\n",
            "84) ps_calc_17_bin                 0.002699\n",
            "85) ps_calc_16_bin                 0.002623\n",
            "86) ps_calc_19_bin                 0.002577\n",
            "87) ps_calc_18_bin                 0.002496\n",
            "88) ps_ind_04_cat_0                0.002412\n",
            "89) ps_car_01_cat_11               0.002382\n",
            "90) ps_ind_16_bin                  0.002377\n",
            "91) ps_ind_04_cat_1                0.002376\n",
            "92) ps_ind_07_bin                  0.002301\n",
            "93) ps_car_09_cat_2                0.002299\n",
            "94) ps_ind_02_cat_1                0.002265\n",
            "95) ps_car_01_cat_7                0.002125\n",
            "96) ps_car_09_cat_0                0.002102\n",
            "97) ps_ind_02_cat_2                0.002077\n",
            "98) ps_calc_20_bin                 0.002056\n",
            "99) ps_ind_06_bin                  0.002029\n",
            "100) ps_calc_15_bin                 0.002007\n",
            "101) ps_car_06_cat_1                0.001998\n",
            "102) ps_car_07_cat_1                0.001994\n",
            "103) ps_ind_08_bin                  0.001941\n",
            "104) ps_car_09_cat_1                0.001813\n",
            "105) ps_car_06_cat_11               0.001784\n",
            "106) ps_ind_18_bin                  0.001723\n",
            "107) ps_ind_09_bin                  0.001696\n",
            "108) ps_car_01_cat_10               0.001601\n",
            "109) ps_car_01_cat_9                0.001570\n",
            "110) ps_car_06_cat_14               0.001560\n",
            "111) ps_car_01_cat_6                0.001551\n",
            "112) ps_car_01_cat_4                0.001547\n",
            "113) ps_ind_05_cat_6                0.001512\n",
            "114) ps_ind_02_cat_3                0.001432\n",
            "115) ps_car_08_cat_1                0.001377\n",
            "116) ps_car_07_cat_0                0.001363\n",
            "117) ps_car_01_cat_8                0.001334\n",
            "118) ps_car_02_cat_1                0.001329\n",
            "119) ps_car_02_cat_0                0.001322\n",
            "120) ps_car_06_cat_4                0.001225\n",
            "121) ps_ind_05_cat_4                0.001202\n",
            "122) ps_car_01_cat_5                0.001149\n",
            "123) ps_ind_02_cat_4                0.001145\n",
            "124) ps_car_06_cat_6                0.001120\n",
            "125) ps_car_06_cat_10               0.001060\n",
            "126) ps_ind_05_cat_2                0.001045\n",
            "127) ps_car_04_cat_1                0.001037\n",
            "128) ps_car_06_cat_7                0.001003\n",
            "129) ps_car_04_cat_2                0.000973\n",
            "130) ps_car_01_cat_3                0.000897\n",
            "131) ps_car_09_cat_3                0.000884\n",
            "132) ps_car_01_cat_0                0.000867\n",
            "133) ps_ind_14                      0.000845\n",
            "134) ps_car_06_cat_15               0.000836\n",
            "135) ps_car_06_cat_9                0.000799\n",
            "136) ps_ind_05_cat_1                0.000733\n",
            "137) ps_car_10_cat_1                0.000720\n",
            "138) ps_ind_12_bin                  0.000699\n",
            "139) ps_car_06_cat_3                0.000696\n",
            "140) ps_ind_05_cat_3                0.000660\n",
            "141) ps_car_09_cat_4                0.000610\n",
            "142) ps_car_01_cat_2                0.000565\n",
            "143) ps_car_04_cat_8                0.000543\n",
            "144) ps_car_06_cat_17               0.000510\n",
            "145) ps_car_06_cat_16               0.000476\n",
            "146) ps_car_04_cat_9                0.000440\n",
            "147) ps_car_06_cat_12               0.000429\n",
            "148) ps_car_06_cat_13               0.000402\n",
            "149) ps_car_01_cat_1                0.000381\n",
            "150) ps_ind_05_cat_5                0.000318\n",
            "151) ps_car_06_cat_5                0.000273\n",
            "152) ps_ind_11_bin                  0.000212\n",
            "153) ps_car_04_cat_6                0.000192\n",
            "154) ps_car_04_cat_3                0.000150\n",
            "155) ps_ind_13_bin                  0.000149\n",
            "156) ps_car_06_cat_2                0.000137\n",
            "157) ps_car_06_cat_8                0.000098\n",
            "158) ps_car_04_cat_5                0.000090\n",
            "159) ps_car_04_cat_7                0.000085\n",
            "160) ps_ind_10_bin                  0.000073\n",
            "161) ps_car_10_cat_2                0.000062\n",
            "162) ps_car_04_cat_4                0.000044\n"
          ]
        }
      ]
    },
    {
      "cell_type": "code",
      "metadata": {
        "colab": {
          "base_uri": "https://localhost:8080/"
        },
        "id": "yTy_oB_aYbm0",
        "outputId": "e02c6686-f159-472d-e71f-add6efcebd7e"
      },
      "source": [
        "sfm = SelectFromModel(rf, threshold = 'median', prefit=True)\n",
        "print('Number of features before selection : {}'.format(X_train.shape[1]))\n",
        "n_features = sfm.transform(X_train).shape[1]\n",
        "print('Number of features after selection : {}'.format(n_features))\n",
        "selected_vars = list(feat_labels[sfm.get_support()])"
      ],
      "execution_count": null,
      "outputs": [
        {
          "output_type": "stream",
          "name": "stdout",
          "text": [
            "Number of features before selection : 162\n",
            "Number of features after selection : 81\n"
          ]
        }
      ]
    },
    {
      "cell_type": "code",
      "metadata": {
        "id": "70CAC1S0k8zK"
      },
      "source": [
        "train = train[selected_vars + ['target']]"
      ],
      "execution_count": null,
      "outputs": []
    },
    {
      "cell_type": "markdown",
      "metadata": {
        "id": "2x8YpWwJtYb7"
      },
      "source": [
        "## Feature Scaling"
      ]
    },
    {
      "cell_type": "code",
      "metadata": {
        "colab": {
          "base_uri": "https://localhost:8080/"
        },
        "id": "qNNHSEBLlJNM",
        "outputId": "74211a7e-97e7-4de6-8238-e5c679ae696c"
      },
      "source": [
        "scaler = StandardScaler()\n",
        "scaler.fit_transform(train.drop(['target'],axis=1))"
      ],
      "execution_count": null,
      "outputs": [
        {
          "output_type": "execute_result",
          "data": {
            "text/plain": [
              "array([[-0.45941104, -1.26665356,  1.05087653, ..., -0.72553616,\n",
              "        -1.01071913, -1.06173767],\n",
              "       [ 1.55538958,  0.95034274, -0.63847299, ..., -1.06120876,\n",
              "        -1.01071913,  0.27907892],\n",
              "       [ 1.05168943, -0.52765479, -0.92003125, ...,  1.95984463,\n",
              "        -0.56215309, -1.02449277],\n",
              "       ...,\n",
              "       [-0.9631112 ,  0.58084336,  0.48776003, ..., -0.46445747,\n",
              "         0.18545696,  0.27907892],\n",
              "       [-0.9631112 , -0.89715418, -1.48314775, ..., -0.91202093,\n",
              "        -0.41263108,  0.27907892],\n",
              "       [-0.45941104, -1.26665356,  1.61399304, ...,  0.28148164,\n",
              "        -0.11358706, -0.72653353]])"
            ]
          },
          "metadata": {},
          "execution_count": 148
        }
      ]
    },
    {
      "cell_type": "code",
      "metadata": {
        "id": "2TfjOxJktGvd"
      },
      "source": [
        ""
      ],
      "execution_count": null,
      "outputs": []
    }
  ]
}